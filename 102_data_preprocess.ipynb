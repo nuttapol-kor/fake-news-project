{
 "cells": [
  {
   "cell_type": "code",
   "execution_count": 1,
   "metadata": {},
   "outputs": [],
   "source": [
    "import pandas as pd\n",
    "import numpy as np\n",
    "import unicodedata\n",
    "import pythainlp\n",
    "# from pythainlp import util, word_tokenize\n",
    "from datasets import Dataset, DatasetDict\n",
    "from sentence_transformers import SentenceTransformer, util\n",
    "from nltk.translate.bleu_score import sentence_bleu"
   ]
  },
  {
   "cell_type": "code",
   "execution_count": 64,
   "metadata": {},
   "outputs": [],
   "source": [
    "train = pd.read_json(\"./LimeSoda/dataset_train_wo_tokentags_v1/train_v1.jsonl\", lines=True)\n",
    "test = pd.read_json(\"./LimeSoda/dataset_train_wo_tokentags_v1/test_v1.jsonl\", lines=True)\n",
    "val = pd.read_json(\"./LimeSoda/dataset_train_wo_tokentags_v1/val_v1.jsonl\", lines=True)"
   ]
  },
  {
   "cell_type": "code",
   "execution_count": 65,
   "metadata": {},
   "outputs": [
    {
     "data": {
      "text/html": [
       "<div>\n",
       "<style scoped>\n",
       "    .dataframe tbody tr th:only-of-type {\n",
       "        vertical-align: middle;\n",
       "    }\n",
       "\n",
       "    .dataframe tbody tr th {\n",
       "        vertical-align: top;\n",
       "    }\n",
       "\n",
       "    .dataframe thead th {\n",
       "        text-align: right;\n",
       "    }\n",
       "</style>\n",
       "<table border=\"1\" class=\"dataframe\">\n",
       "  <thead>\n",
       "    <tr style=\"text-align: right;\">\n",
       "      <th></th>\n",
       "      <th>Text</th>\n",
       "      <th>Document Tag</th>\n",
       "    </tr>\n",
       "  </thead>\n",
       "  <tbody>\n",
       "    <tr>\n",
       "      <th>0</th>\n",
       "      <td>[เพื่อน, ๆ, , , รู้, ไหม, ครับ, ว่า, , , \", กา...</td>\n",
       "      <td>Fact News</td>\n",
       "    </tr>\n",
       "    <tr>\n",
       "      <th>1</th>\n",
       "      <td>[เทรนด์, กิ๊บเก๋, ..., ป้องกัน, โรค, |||, ฮัดเ...</td>\n",
       "      <td>Fact News</td>\n",
       "    </tr>\n",
       "    <tr>\n",
       "      <th>2</th>\n",
       "      <td>[สถาน, เอกอัครราชทูต, คูเวต, , , งด, ออกวี, ซ่...</td>\n",
       "      <td>Fact News</td>\n",
       "    </tr>\n",
       "    <tr>\n",
       "      <th>3</th>\n",
       "      <td>[สั่ง, ตรวจสอบ, \", ลูก, ตุ้ม, พลังธาตุ, \", ของ...</td>\n",
       "      <td>Fact News</td>\n",
       "    </tr>\n",
       "    <tr>\n",
       "      <th>4</th>\n",
       "      <td>[เรา, ไม่, รู้, ว่า, Covid, -, 19, กลัว, ขิง, ...</td>\n",
       "      <td>Fake News</td>\n",
       "    </tr>\n",
       "    <tr>\n",
       "      <th>...</th>\n",
       "      <td>...</td>\n",
       "      <td>...</td>\n",
       "    </tr>\n",
       "    <tr>\n",
       "      <th>2693</th>\n",
       "      <td>[SaaPannisa, ไข่, มุก, นั้น, ทำ, มา, จาก, แป้ง...</td>\n",
       "      <td>Fake News</td>\n",
       "    </tr>\n",
       "    <tr>\n",
       "      <th>2694</th>\n",
       "      <td>[ออก, กำลัง, กาย, ไล่, ความ, ดัน, โลหิต, สูง, ...</td>\n",
       "      <td>Fact News</td>\n",
       "    </tr>\n",
       "    <tr>\n",
       "      <th>2695</th>\n",
       "      <td>[‘, ผู้, ชาย, -, คน, อ้วน, ’, เสี่ยง, ป่วย, หน...</td>\n",
       "      <td>Fact News</td>\n",
       "    </tr>\n",
       "    <tr>\n",
       "      <th>2696</th>\n",
       "      <td>[กระเทียม, สุด, ยอด, ผัก, จริง, ๆ, ตั้งแต่, ค,...</td>\n",
       "      <td>Fake News</td>\n",
       "    </tr>\n",
       "    <tr>\n",
       "      <th>2697</th>\n",
       "      <td>[“, ทักษะ, มนุษย์, ใน, ศตวรรษ, ที่, , , 21, , ...</td>\n",
       "      <td>Fact News</td>\n",
       "    </tr>\n",
       "  </tbody>\n",
       "</table>\n",
       "<p>2698 rows × 2 columns</p>\n",
       "</div>"
      ],
      "text/plain": [
       "                                                   Text Document Tag\n",
       "0     [เพื่อน, ๆ, , , รู้, ไหม, ครับ, ว่า, , , \", กา...    Fact News\n",
       "1     [เทรนด์, กิ๊บเก๋, ..., ป้องกัน, โรค, |||, ฮัดเ...    Fact News\n",
       "2     [สถาน, เอกอัครราชทูต, คูเวต, , , งด, ออกวี, ซ่...    Fact News\n",
       "3     [สั่ง, ตรวจสอบ, \", ลูก, ตุ้ม, พลังธาตุ, \", ของ...    Fact News\n",
       "4     [เรา, ไม่, รู้, ว่า, Covid, -, 19, กลัว, ขิง, ...    Fake News\n",
       "...                                                 ...          ...\n",
       "2693  [SaaPannisa, ไข่, มุก, นั้น, ทำ, มา, จาก, แป้ง...    Fake News\n",
       "2694  [ออก, กำลัง, กาย, ไล่, ความ, ดัน, โลหิต, สูง, ...    Fact News\n",
       "2695  [‘, ผู้, ชาย, -, คน, อ้วน, ’, เสี่ยง, ป่วย, หน...    Fact News\n",
       "2696  [กระเทียม, สุด, ยอด, ผัก, จริง, ๆ, ตั้งแต่, ค,...    Fake News\n",
       "2697  [“, ทักษะ, มนุษย์, ใน, ศตวรรษ, ที่, , , 21, , ...    Fact News\n",
       "\n",
       "[2698 rows x 2 columns]"
      ]
     },
     "execution_count": 65,
     "metadata": {},
     "output_type": "execute_result"
    }
   ],
   "source": [
    "train"
   ]
  },
  {
   "cell_type": "code",
   "execution_count": 66,
   "metadata": {},
   "outputs": [
    {
     "data": {
      "text/html": [
       "<div>\n",
       "<style scoped>\n",
       "    .dataframe tbody tr th:only-of-type {\n",
       "        vertical-align: middle;\n",
       "    }\n",
       "\n",
       "    .dataframe tbody tr th {\n",
       "        vertical-align: top;\n",
       "    }\n",
       "\n",
       "    .dataframe thead th {\n",
       "        text-align: right;\n",
       "    }\n",
       "</style>\n",
       "<table border=\"1\" class=\"dataframe\">\n",
       "  <thead>\n",
       "    <tr style=\"text-align: right;\">\n",
       "      <th></th>\n",
       "      <th>Text</th>\n",
       "      <th>Token Tags</th>\n",
       "      <th>Document Tag</th>\n",
       "    </tr>\n",
       "  </thead>\n",
       "  <tbody>\n",
       "    <tr>\n",
       "      <th>0</th>\n",
       "      <td>[ประกาศ, กฎอัยการศึก, ปิด, การ, เข้า, ออก, ทุก...</td>\n",
       "      <td>[T-Clickbait, T-Clickbait, , , , , , , , , , ,...</td>\n",
       "      <td>Undefined</td>\n",
       "    </tr>\n",
       "    <tr>\n",
       "      <th>1</th>\n",
       "      <td>[ประโยชน์, มาก, ก็, ใช่, ว่า, จะ, ไม่มี, โทษ, ...</td>\n",
       "      <td>[, , , , , , , , , , M-Convincing, M-Convincin...</td>\n",
       "      <td>Undefined</td>\n",
       "    </tr>\n",
       "    <tr>\n",
       "      <th>2</th>\n",
       "      <td>[มั่นใจ, กระซิบหูหนู, พระพิฆเนศ, ไม่ติด, เชื้อ...</td>\n",
       "      <td>[T-Clickbait, T-Clickbait, T-Clickbait, T-Clic...</td>\n",
       "      <td>Fake News</td>\n",
       "    </tr>\n",
       "    <tr>\n",
       "      <th>3</th>\n",
       "      <td>[พวก, ที่, เชื่อ, ว่า, คน, ไม่, ป่วย, ไม่, ต้อ...</td>\n",
       "      <td>[, , , , , , , , , , , , , , , , , , , , , , ,...</td>\n",
       "      <td>Undefined</td>\n",
       "    </tr>\n",
       "    <tr>\n",
       "      <th>4</th>\n",
       "      <td>[มัน, คือ, น้ำ, ศักดิ์สิทธิ์, ไว้, รักษา, คน, ...</td>\n",
       "      <td>[Fb-Refer, Fb-Refer, Fb-Over, Fb-Over, Fb-Over...</td>\n",
       "      <td>Fake News</td>\n",
       "    </tr>\n",
       "    <tr>\n",
       "      <th>...</th>\n",
       "      <td>...</td>\n",
       "      <td>...</td>\n",
       "      <td>...</td>\n",
       "    </tr>\n",
       "    <tr>\n",
       "      <th>2760</th>\n",
       "      <td>[ตอน, นี้, คน, ที่, รู้จัก, กิน, ใบ, ทุเรียน, ...</td>\n",
       "      <td>[, , , , , Fb-Refer, Fb-Refer, Fb-Refer, Fb-Re...</td>\n",
       "      <td>Fake News</td>\n",
       "    </tr>\n",
       "    <tr>\n",
       "      <th>2761</th>\n",
       "      <td>[เอา, แล้ว, โชว์, เหนือ, เกาหลี, เค้า, วิจัย, ...</td>\n",
       "      <td>[S-Satire, S-Satire, S-Satire, S-Satire, , , I...</td>\n",
       "      <td>Undefined</td>\n",
       "    </tr>\n",
       "    <tr>\n",
       "      <th>2762</th>\n",
       "      <td>[เคล็ด, ลับ, 5, วิธี, เสก, ความ, อึ๋ม, ง่ายๆ, ...</td>\n",
       "      <td>[, , , , T-Clickbait, T-Clickbait, T-Clickbait...</td>\n",
       "      <td>Undefined</td>\n",
       "    </tr>\n",
       "    <tr>\n",
       "      <th>2763</th>\n",
       "      <td>[หมอ, ใหญ่, เมือง, เลย, เตือน, !, !, ชาว, บ้าน...</td>\n",
       "      <td>[, , , , T-Clickbait, T-Clickbait, T-Clickbait...</td>\n",
       "      <td>Undefined</td>\n",
       "    </tr>\n",
       "    <tr>\n",
       "      <th>2764</th>\n",
       "      <td>[360, องศา, :, เตือน, หมกมุ่น, รัก, ความ, สะอา...</td>\n",
       "      <td>[, , , , , , , , , , , , , |||, , , , , I-Rese...</td>\n",
       "      <td>Undefined</td>\n",
       "    </tr>\n",
       "  </tbody>\n",
       "</table>\n",
       "<p>2765 rows × 3 columns</p>\n",
       "</div>"
      ],
      "text/plain": [
       "                                                   Text  \\\n",
       "0     [ประกาศ, กฎอัยการศึก, ปิด, การ, เข้า, ออก, ทุก...   \n",
       "1     [ประโยชน์, มาก, ก็, ใช่, ว่า, จะ, ไม่มี, โทษ, ...   \n",
       "2     [มั่นใจ, กระซิบหูหนู, พระพิฆเนศ, ไม่ติด, เชื้อ...   \n",
       "3     [พวก, ที่, เชื่อ, ว่า, คน, ไม่, ป่วย, ไม่, ต้อ...   \n",
       "4     [มัน, คือ, น้ำ, ศักดิ์สิทธิ์, ไว้, รักษา, คน, ...   \n",
       "...                                                 ...   \n",
       "2760  [ตอน, นี้, คน, ที่, รู้จัก, กิน, ใบ, ทุเรียน, ...   \n",
       "2761  [เอา, แล้ว, โชว์, เหนือ, เกาหลี, เค้า, วิจัย, ...   \n",
       "2762  [เคล็ด, ลับ, 5, วิธี, เสก, ความ, อึ๋ม, ง่ายๆ, ...   \n",
       "2763  [หมอ, ใหญ่, เมือง, เลย, เตือน, !, !, ชาว, บ้าน...   \n",
       "2764  [360, องศา, :, เตือน, หมกมุ่น, รัก, ความ, สะอา...   \n",
       "\n",
       "                                             Token Tags Document Tag  \n",
       "0     [T-Clickbait, T-Clickbait, , , , , , , , , , ,...    Undefined  \n",
       "1     [, , , , , , , , , , M-Convincing, M-Convincin...    Undefined  \n",
       "2     [T-Clickbait, T-Clickbait, T-Clickbait, T-Clic...    Fake News  \n",
       "3     [, , , , , , , , , , , , , , , , , , , , , , ,...    Undefined  \n",
       "4     [Fb-Refer, Fb-Refer, Fb-Over, Fb-Over, Fb-Over...    Fake News  \n",
       "...                                                 ...          ...  \n",
       "2760  [, , , , , Fb-Refer, Fb-Refer, Fb-Refer, Fb-Re...    Fake News  \n",
       "2761  [S-Satire, S-Satire, S-Satire, S-Satire, , , I...    Undefined  \n",
       "2762  [, , , , T-Clickbait, T-Clickbait, T-Clickbait...    Undefined  \n",
       "2763  [, , , , T-Clickbait, T-Clickbait, T-Clickbait...    Undefined  \n",
       "2764  [, , , , , , , , , , , , , |||, , , , , I-Rese...    Undefined  \n",
       "\n",
       "[2765 rows x 3 columns]"
      ]
     },
     "execution_count": 66,
     "metadata": {},
     "output_type": "execute_result"
    }
   ],
   "source": [
    "test"
   ]
  },
  {
   "cell_type": "code",
   "execution_count": 67,
   "metadata": {},
   "outputs": [
    {
     "data": {
      "text/html": [
       "<div>\n",
       "<style scoped>\n",
       "    .dataframe tbody tr th:only-of-type {\n",
       "        vertical-align: middle;\n",
       "    }\n",
       "\n",
       "    .dataframe tbody tr th {\n",
       "        vertical-align: top;\n",
       "    }\n",
       "\n",
       "    .dataframe thead th {\n",
       "        text-align: right;\n",
       "    }\n",
       "</style>\n",
       "<table border=\"1\" class=\"dataframe\">\n",
       "  <thead>\n",
       "    <tr style=\"text-align: right;\">\n",
       "      <th></th>\n",
       "      <th>Text</th>\n",
       "      <th>Document Tag</th>\n",
       "    </tr>\n",
       "  </thead>\n",
       "  <tbody>\n",
       "    <tr>\n",
       "      <th>0</th>\n",
       "      <td>[เตือน, ผู้, ปกครอง, เฝ้า, ระวัง, อาการ, แทรกซ...</td>\n",
       "      <td>Fact News</td>\n",
       "    </tr>\n",
       "    <tr>\n",
       "      <th>1</th>\n",
       "      <td>[โรค, ติด, เชื้อ, ไวรัส, โคโรนา, , , 2019, Cor...</td>\n",
       "      <td>Fact News</td>\n",
       "    </tr>\n",
       "    <tr>\n",
       "      <th>2</th>\n",
       "      <td>[เปิดใจ, !, สาว, เจอ, เมือกปริศนา, ใน, ช่อง, ค...</td>\n",
       "      <td>Fact News</td>\n",
       "    </tr>\n",
       "    <tr>\n",
       "      <th>3</th>\n",
       "      <td>[#, ค่า, พีเอช, คือ, ความ, เป็น, ด่าง, ที่, มี...</td>\n",
       "      <td>Fake News</td>\n",
       "    </tr>\n",
       "    <tr>\n",
       "      <th>4</th>\n",
       "      <td>[เรา, กำลัง, งง, กับ, คน, ฮ่องกง, ที่, มี, ข่า...</td>\n",
       "      <td>Fake News</td>\n",
       "    </tr>\n",
       "    <tr>\n",
       "      <th>...</th>\n",
       "      <td>...</td>\n",
       "      <td>...</td>\n",
       "    </tr>\n",
       "    <tr>\n",
       "      <th>295</th>\n",
       "      <td>[เอ็นจีโอ, ติง, กม., ห้าม, แจก, ‘, เข็มฉีด, ยา...</td>\n",
       "      <td>Fact News</td>\n",
       "    </tr>\n",
       "    <tr>\n",
       "      <th>296</th>\n",
       "      <td>[หมอ, เตือน, เลี่ยง, กิน, หมู, ดิบ, เสี่ยง, โร...</td>\n",
       "      <td>Fact News</td>\n",
       "    </tr>\n",
       "    <tr>\n",
       "      <th>297</th>\n",
       "      <td>[ชาว, บ้าน, แห่, เก็บ#, ต้น, อังกาบ, หนู, •, ช...</td>\n",
       "      <td>Fake News</td>\n",
       "    </tr>\n",
       "    <tr>\n",
       "      <th>298</th>\n",
       "      <td>[ง่าย, มาก, ๆ, , , วิธี, กำจัด, , , “, ติ่ง, เ...</td>\n",
       "      <td>Fake News</td>\n",
       "    </tr>\n",
       "    <tr>\n",
       "      <th>299</th>\n",
       "      <td>[อดีต, ผอก., การ, ประปา, ส่ง, เตือน, มา, ครับ,...</td>\n",
       "      <td>Fake News</td>\n",
       "    </tr>\n",
       "  </tbody>\n",
       "</table>\n",
       "<p>300 rows × 2 columns</p>\n",
       "</div>"
      ],
      "text/plain": [
       "                                                  Text Document Tag\n",
       "0    [เตือน, ผู้, ปกครอง, เฝ้า, ระวัง, อาการ, แทรกซ...    Fact News\n",
       "1    [โรค, ติด, เชื้อ, ไวรัส, โคโรนา, , , 2019, Cor...    Fact News\n",
       "2    [เปิดใจ, !, สาว, เจอ, เมือกปริศนา, ใน, ช่อง, ค...    Fact News\n",
       "3    [#, ค่า, พีเอช, คือ, ความ, เป็น, ด่าง, ที่, มี...    Fake News\n",
       "4    [เรา, กำลัง, งง, กับ, คน, ฮ่องกง, ที่, มี, ข่า...    Fake News\n",
       "..                                                 ...          ...\n",
       "295  [เอ็นจีโอ, ติง, กม., ห้าม, แจก, ‘, เข็มฉีด, ยา...    Fact News\n",
       "296  [หมอ, เตือน, เลี่ยง, กิน, หมู, ดิบ, เสี่ยง, โร...    Fact News\n",
       "297  [ชาว, บ้าน, แห่, เก็บ#, ต้น, อังกาบ, หนู, •, ช...    Fake News\n",
       "298  [ง่าย, มาก, ๆ, , , วิธี, กำจัด, , , “, ติ่ง, เ...    Fake News\n",
       "299  [อดีต, ผอก., การ, ประปา, ส่ง, เตือน, มา, ครับ,...    Fake News\n",
       "\n",
       "[300 rows x 2 columns]"
      ]
     },
     "execution_count": 67,
     "metadata": {},
     "output_type": "execute_result"
    }
   ],
   "source": [
    "val"
   ]
  },
  {
   "cell_type": "code",
   "execution_count": 68,
   "metadata": {},
   "outputs": [],
   "source": [
    "df = pd.concat([train, test, val]).drop(columns=['Token Tags'])"
   ]
  },
  {
   "cell_type": "code",
   "execution_count": 69,
   "metadata": {},
   "outputs": [
    {
     "data": {
      "text/plain": [
       "Undefined    2327\n",
       "Fake News    1878\n",
       "Fact News    1558\n",
       "Name: Document Tag, dtype: int64"
      ]
     },
     "execution_count": 69,
     "metadata": {},
     "output_type": "execute_result"
    }
   ],
   "source": [
    "df['Document Tag'].value_counts()"
   ]
  },
  {
   "cell_type": "code",
   "execution_count": 70,
   "metadata": {},
   "outputs": [],
   "source": [
    "df = df[df[\"Document Tag\"].str.contains(\"Undefined\") == False]"
   ]
  },
  {
   "cell_type": "code",
   "execution_count": 71,
   "metadata": {},
   "outputs": [
    {
     "data": {
      "text/plain": [
       "Fake News    1878\n",
       "Fact News    1558\n",
       "Name: Document Tag, dtype: int64"
      ]
     },
     "execution_count": 71,
     "metadata": {},
     "output_type": "execute_result"
    }
   ],
   "source": [
    "df['Document Tag'].value_counts()"
   ]
  },
  {
   "cell_type": "code",
   "execution_count": 72,
   "metadata": {},
   "outputs": [
    {
     "data": {
      "text/html": [
       "<div>\n",
       "<style scoped>\n",
       "    .dataframe tbody tr th:only-of-type {\n",
       "        vertical-align: middle;\n",
       "    }\n",
       "\n",
       "    .dataframe tbody tr th {\n",
       "        vertical-align: top;\n",
       "    }\n",
       "\n",
       "    .dataframe thead th {\n",
       "        text-align: right;\n",
       "    }\n",
       "</style>\n",
       "<table border=\"1\" class=\"dataframe\">\n",
       "  <thead>\n",
       "    <tr style=\"text-align: right;\">\n",
       "      <th></th>\n",
       "      <th>Text</th>\n",
       "      <th>Document Tag</th>\n",
       "    </tr>\n",
       "  </thead>\n",
       "  <tbody>\n",
       "    <tr>\n",
       "      <th>0</th>\n",
       "      <td>[เพื่อน, ๆ, , , รู้, ไหม, ครับ, ว่า, , , \", กา...</td>\n",
       "      <td>Fact News</td>\n",
       "    </tr>\n",
       "    <tr>\n",
       "      <th>1</th>\n",
       "      <td>[เทรนด์, กิ๊บเก๋, ..., ป้องกัน, โรค, |||, ฮัดเ...</td>\n",
       "      <td>Fact News</td>\n",
       "    </tr>\n",
       "    <tr>\n",
       "      <th>2</th>\n",
       "      <td>[สถาน, เอกอัครราชทูต, คูเวต, , , งด, ออกวี, ซ่...</td>\n",
       "      <td>Fact News</td>\n",
       "    </tr>\n",
       "    <tr>\n",
       "      <th>3</th>\n",
       "      <td>[สั่ง, ตรวจสอบ, \", ลูก, ตุ้ม, พลังธาตุ, \", ของ...</td>\n",
       "      <td>Fact News</td>\n",
       "    </tr>\n",
       "    <tr>\n",
       "      <th>4</th>\n",
       "      <td>[เรา, ไม่, รู้, ว่า, Covid, -, 19, กลัว, ขิง, ...</td>\n",
       "      <td>Fake News</td>\n",
       "    </tr>\n",
       "    <tr>\n",
       "      <th>...</th>\n",
       "      <td>...</td>\n",
       "      <td>...</td>\n",
       "    </tr>\n",
       "    <tr>\n",
       "      <th>295</th>\n",
       "      <td>[เอ็นจีโอ, ติง, กม., ห้าม, แจก, ‘, เข็มฉีด, ยา...</td>\n",
       "      <td>Fact News</td>\n",
       "    </tr>\n",
       "    <tr>\n",
       "      <th>296</th>\n",
       "      <td>[หมอ, เตือน, เลี่ยง, กิน, หมู, ดิบ, เสี่ยง, โร...</td>\n",
       "      <td>Fact News</td>\n",
       "    </tr>\n",
       "    <tr>\n",
       "      <th>297</th>\n",
       "      <td>[ชาว, บ้าน, แห่, เก็บ#, ต้น, อังกาบ, หนู, •, ช...</td>\n",
       "      <td>Fake News</td>\n",
       "    </tr>\n",
       "    <tr>\n",
       "      <th>298</th>\n",
       "      <td>[ง่าย, มาก, ๆ, , , วิธี, กำจัด, , , “, ติ่ง, เ...</td>\n",
       "      <td>Fake News</td>\n",
       "    </tr>\n",
       "    <tr>\n",
       "      <th>299</th>\n",
       "      <td>[อดีต, ผอก., การ, ประปา, ส่ง, เตือน, มา, ครับ,...</td>\n",
       "      <td>Fake News</td>\n",
       "    </tr>\n",
       "  </tbody>\n",
       "</table>\n",
       "<p>3436 rows × 2 columns</p>\n",
       "</div>"
      ],
      "text/plain": [
       "                                                  Text Document Tag\n",
       "0    [เพื่อน, ๆ, , , รู้, ไหม, ครับ, ว่า, , , \", กา...    Fact News\n",
       "1    [เทรนด์, กิ๊บเก๋, ..., ป้องกัน, โรค, |||, ฮัดเ...    Fact News\n",
       "2    [สถาน, เอกอัครราชทูต, คูเวต, , , งด, ออกวี, ซ่...    Fact News\n",
       "3    [สั่ง, ตรวจสอบ, \", ลูก, ตุ้ม, พลังธาตุ, \", ของ...    Fact News\n",
       "4    [เรา, ไม่, รู้, ว่า, Covid, -, 19, กลัว, ขิง, ...    Fake News\n",
       "..                                                 ...          ...\n",
       "295  [เอ็นจีโอ, ติง, กม., ห้าม, แจก, ‘, เข็มฉีด, ยา...    Fact News\n",
       "296  [หมอ, เตือน, เลี่ยง, กิน, หมู, ดิบ, เสี่ยง, โร...    Fact News\n",
       "297  [ชาว, บ้าน, แห่, เก็บ#, ต้น, อังกาบ, หนู, •, ช...    Fake News\n",
       "298  [ง่าย, มาก, ๆ, , , วิธี, กำจัด, , , “, ติ่ง, เ...    Fake News\n",
       "299  [อดีต, ผอก., การ, ประปา, ส่ง, เตือน, มา, ครับ,...    Fake News\n",
       "\n",
       "[3436 rows x 2 columns]"
      ]
     },
     "execution_count": 72,
     "metadata": {},
     "output_type": "execute_result"
    }
   ],
   "source": [
    "df"
   ]
  },
  {
   "cell_type": "code",
   "execution_count": 73,
   "metadata": {},
   "outputs": [],
   "source": [
    "df['Text'] = df['Text'].map(lambda x: ''.join(x))"
   ]
  },
  {
   "cell_type": "code",
   "execution_count": 74,
   "metadata": {},
   "outputs": [
    {
     "data": {
      "text/html": [
       "<div>\n",
       "<style scoped>\n",
       "    .dataframe tbody tr th:only-of-type {\n",
       "        vertical-align: middle;\n",
       "    }\n",
       "\n",
       "    .dataframe tbody tr th {\n",
       "        vertical-align: top;\n",
       "    }\n",
       "\n",
       "    .dataframe thead th {\n",
       "        text-align: right;\n",
       "    }\n",
       "</style>\n",
       "<table border=\"1\" class=\"dataframe\">\n",
       "  <thead>\n",
       "    <tr style=\"text-align: right;\">\n",
       "      <th></th>\n",
       "      <th>Text</th>\n",
       "      <th>Document Tag</th>\n",
       "    </tr>\n",
       "  </thead>\n",
       "  <tbody>\n",
       "    <tr>\n",
       "      <th>0</th>\n",
       "      <td>เพื่อนๆรู้ไหมครับว่า\"การล้างมือ\"มีความสำคัญและ...</td>\n",
       "      <td>Fact News</td>\n",
       "    </tr>\n",
       "    <tr>\n",
       "      <th>1</th>\n",
       "      <td>เทรนด์กิ๊บเก๋...ป้องกันโรค|||ฮัดเช้ยยยย...!!ช่...</td>\n",
       "      <td>Fact News</td>\n",
       "    </tr>\n",
       "    <tr>\n",
       "      <th>2</th>\n",
       "      <td>สถานเอกอัครราชทูตคูเวตงดออกวีซ่าแก่คนต่างชาติร...</td>\n",
       "      <td>Fact News</td>\n",
       "    </tr>\n",
       "    <tr>\n",
       "      <th>3</th>\n",
       "      <td>สั่งตรวจสอบ\"ลูกตุ้มพลังธาตุ\"ของขลังฆ่าโควิด-19...</td>\n",
       "      <td>Fact News</td>\n",
       "    </tr>\n",
       "    <tr>\n",
       "      <th>4</th>\n",
       "      <td>เราไม่รู้ว่าCovid-19กลัวขิงกับกัญชาจริงหรือไม่...</td>\n",
       "      <td>Fake News</td>\n",
       "    </tr>\n",
       "    <tr>\n",
       "      <th>...</th>\n",
       "      <td>...</td>\n",
       "      <td>...</td>\n",
       "    </tr>\n",
       "    <tr>\n",
       "      <th>295</th>\n",
       "      <td>เอ็นจีโอติงกม.ห้ามแจก‘เข็มฉีดยา’ลดติดเชื้อเอชไ...</td>\n",
       "      <td>Fact News</td>\n",
       "    </tr>\n",
       "    <tr>\n",
       "      <th>296</th>\n",
       "      <td>หมอเตือนเลี่ยงกินหมูดิบเสี่ยงโรคไข้หูดับ|||หมอ...</td>\n",
       "      <td>Fact News</td>\n",
       "    </tr>\n",
       "    <tr>\n",
       "      <th>297</th>\n",
       "      <td>ชาวบ้านแห่เก็บ#ต้นอังกาบหนู•ชาวบ้านแห่เข้าไปเก...</td>\n",
       "      <td>Fake News</td>\n",
       "    </tr>\n",
       "    <tr>\n",
       "      <th>298</th>\n",
       "      <td>ง่ายมากๆวิธีกำจัด“ติ่งเนื้อ”ด้วยวิธีธรรมชาติหา...</td>\n",
       "      <td>Fake News</td>\n",
       "    </tr>\n",
       "    <tr>\n",
       "      <th>299</th>\n",
       "      <td>อดีตผอก.การประปาส่งเตือนมาครับ.✋✋อยากบอกเพื่อน...</td>\n",
       "      <td>Fake News</td>\n",
       "    </tr>\n",
       "  </tbody>\n",
       "</table>\n",
       "<p>3436 rows × 2 columns</p>\n",
       "</div>"
      ],
      "text/plain": [
       "                                                  Text Document Tag\n",
       "0    เพื่อนๆรู้ไหมครับว่า\"การล้างมือ\"มีความสำคัญและ...    Fact News\n",
       "1    เทรนด์กิ๊บเก๋...ป้องกันโรค|||ฮัดเช้ยยยย...!!ช่...    Fact News\n",
       "2    สถานเอกอัครราชทูตคูเวตงดออกวีซ่าแก่คนต่างชาติร...    Fact News\n",
       "3    สั่งตรวจสอบ\"ลูกตุ้มพลังธาตุ\"ของขลังฆ่าโควิด-19...    Fact News\n",
       "4    เราไม่รู้ว่าCovid-19กลัวขิงกับกัญชาจริงหรือไม่...    Fake News\n",
       "..                                                 ...          ...\n",
       "295  เอ็นจีโอติงกม.ห้ามแจก‘เข็มฉีดยา’ลดติดเชื้อเอชไ...    Fact News\n",
       "296  หมอเตือนเลี่ยงกินหมูดิบเสี่ยงโรคไข้หูดับ|||หมอ...    Fact News\n",
       "297  ชาวบ้านแห่เก็บ#ต้นอังกาบหนู•ชาวบ้านแห่เข้าไปเก...    Fake News\n",
       "298  ง่ายมากๆวิธีกำจัด“ติ่งเนื้อ”ด้วยวิธีธรรมชาติหา...    Fake News\n",
       "299  อดีตผอก.การประปาส่งเตือนมาครับ.✋✋อยากบอกเพื่อน...    Fake News\n",
       "\n",
       "[3436 rows x 2 columns]"
      ]
     },
     "execution_count": 74,
     "metadata": {},
     "output_type": "execute_result"
    }
   ],
   "source": [
    "df"
   ]
  },
  {
   "cell_type": "code",
   "execution_count": 75,
   "metadata": {},
   "outputs": [],
   "source": [
    "df['Document Tag'] = np.where(df['Document Tag'] == 'Fact News', 0, 1)"
   ]
  },
  {
   "cell_type": "code",
   "execution_count": 76,
   "metadata": {},
   "outputs": [
    {
     "data": {
      "text/html": [
       "<div>\n",
       "<style scoped>\n",
       "    .dataframe tbody tr th:only-of-type {\n",
       "        vertical-align: middle;\n",
       "    }\n",
       "\n",
       "    .dataframe tbody tr th {\n",
       "        vertical-align: top;\n",
       "    }\n",
       "\n",
       "    .dataframe thead th {\n",
       "        text-align: right;\n",
       "    }\n",
       "</style>\n",
       "<table border=\"1\" class=\"dataframe\">\n",
       "  <thead>\n",
       "    <tr style=\"text-align: right;\">\n",
       "      <th></th>\n",
       "      <th>Text</th>\n",
       "      <th>Document Tag</th>\n",
       "    </tr>\n",
       "  </thead>\n",
       "  <tbody>\n",
       "    <tr>\n",
       "      <th>0</th>\n",
       "      <td>เพื่อนๆรู้ไหมครับว่า\"การล้างมือ\"มีความสำคัญและ...</td>\n",
       "      <td>0</td>\n",
       "    </tr>\n",
       "    <tr>\n",
       "      <th>1</th>\n",
       "      <td>เทรนด์กิ๊บเก๋...ป้องกันโรค|||ฮัดเช้ยยยย...!!ช่...</td>\n",
       "      <td>0</td>\n",
       "    </tr>\n",
       "    <tr>\n",
       "      <th>2</th>\n",
       "      <td>สถานเอกอัครราชทูตคูเวตงดออกวีซ่าแก่คนต่างชาติร...</td>\n",
       "      <td>0</td>\n",
       "    </tr>\n",
       "    <tr>\n",
       "      <th>3</th>\n",
       "      <td>สั่งตรวจสอบ\"ลูกตุ้มพลังธาตุ\"ของขลังฆ่าโควิด-19...</td>\n",
       "      <td>0</td>\n",
       "    </tr>\n",
       "    <tr>\n",
       "      <th>4</th>\n",
       "      <td>เราไม่รู้ว่าCovid-19กลัวขิงกับกัญชาจริงหรือไม่...</td>\n",
       "      <td>1</td>\n",
       "    </tr>\n",
       "    <tr>\n",
       "      <th>...</th>\n",
       "      <td>...</td>\n",
       "      <td>...</td>\n",
       "    </tr>\n",
       "    <tr>\n",
       "      <th>295</th>\n",
       "      <td>เอ็นจีโอติงกม.ห้ามแจก‘เข็มฉีดยา’ลดติดเชื้อเอชไ...</td>\n",
       "      <td>0</td>\n",
       "    </tr>\n",
       "    <tr>\n",
       "      <th>296</th>\n",
       "      <td>หมอเตือนเลี่ยงกินหมูดิบเสี่ยงโรคไข้หูดับ|||หมอ...</td>\n",
       "      <td>0</td>\n",
       "    </tr>\n",
       "    <tr>\n",
       "      <th>297</th>\n",
       "      <td>ชาวบ้านแห่เก็บ#ต้นอังกาบหนู•ชาวบ้านแห่เข้าไปเก...</td>\n",
       "      <td>1</td>\n",
       "    </tr>\n",
       "    <tr>\n",
       "      <th>298</th>\n",
       "      <td>ง่ายมากๆวิธีกำจัด“ติ่งเนื้อ”ด้วยวิธีธรรมชาติหา...</td>\n",
       "      <td>1</td>\n",
       "    </tr>\n",
       "    <tr>\n",
       "      <th>299</th>\n",
       "      <td>อดีตผอก.การประปาส่งเตือนมาครับ.✋✋อยากบอกเพื่อน...</td>\n",
       "      <td>1</td>\n",
       "    </tr>\n",
       "  </tbody>\n",
       "</table>\n",
       "<p>3436 rows × 2 columns</p>\n",
       "</div>"
      ],
      "text/plain": [
       "                                                  Text  Document Tag\n",
       "0    เพื่อนๆรู้ไหมครับว่า\"การล้างมือ\"มีความสำคัญและ...             0\n",
       "1    เทรนด์กิ๊บเก๋...ป้องกันโรค|||ฮัดเช้ยยยย...!!ช่...             0\n",
       "2    สถานเอกอัครราชทูตคูเวตงดออกวีซ่าแก่คนต่างชาติร...             0\n",
       "3    สั่งตรวจสอบ\"ลูกตุ้มพลังธาตุ\"ของขลังฆ่าโควิด-19...             0\n",
       "4    เราไม่รู้ว่าCovid-19กลัวขิงกับกัญชาจริงหรือไม่...             1\n",
       "..                                                 ...           ...\n",
       "295  เอ็นจีโอติงกม.ห้ามแจก‘เข็มฉีดยา’ลดติดเชื้อเอชไ...             0\n",
       "296  หมอเตือนเลี่ยงกินหมูดิบเสี่ยงโรคไข้หูดับ|||หมอ...             0\n",
       "297  ชาวบ้านแห่เก็บ#ต้นอังกาบหนู•ชาวบ้านแห่เข้าไปเก...             1\n",
       "298  ง่ายมากๆวิธีกำจัด“ติ่งเนื้อ”ด้วยวิธีธรรมชาติหา...             1\n",
       "299  อดีตผอก.การประปาส่งเตือนมาครับ.✋✋อยากบอกเพื่อน...             1\n",
       "\n",
       "[3436 rows x 2 columns]"
      ]
     },
     "execution_count": 76,
     "metadata": {},
     "output_type": "execute_result"
    }
   ],
   "source": [
    "df"
   ]
  },
  {
   "cell_type": "code",
   "execution_count": 77,
   "metadata": {},
   "outputs": [],
   "source": [
    "df.rename(columns={\"Text\": \"text\", \"Document Tag\": \"label\"}, inplace=True)"
   ]
  },
  {
   "cell_type": "code",
   "execution_count": 78,
   "metadata": {},
   "outputs": [
    {
     "data": {
      "text/html": [
       "<div>\n",
       "<style scoped>\n",
       "    .dataframe tbody tr th:only-of-type {\n",
       "        vertical-align: middle;\n",
       "    }\n",
       "\n",
       "    .dataframe tbody tr th {\n",
       "        vertical-align: top;\n",
       "    }\n",
       "\n",
       "    .dataframe thead th {\n",
       "        text-align: right;\n",
       "    }\n",
       "</style>\n",
       "<table border=\"1\" class=\"dataframe\">\n",
       "  <thead>\n",
       "    <tr style=\"text-align: right;\">\n",
       "      <th></th>\n",
       "      <th>text</th>\n",
       "      <th>label</th>\n",
       "    </tr>\n",
       "  </thead>\n",
       "  <tbody>\n",
       "    <tr>\n",
       "      <th>0</th>\n",
       "      <td>เพื่อนๆรู้ไหมครับว่า\"การล้างมือ\"มีความสำคัญและ...</td>\n",
       "      <td>0</td>\n",
       "    </tr>\n",
       "    <tr>\n",
       "      <th>1</th>\n",
       "      <td>เทรนด์กิ๊บเก๋...ป้องกันโรค|||ฮัดเช้ยยยย...!!ช่...</td>\n",
       "      <td>0</td>\n",
       "    </tr>\n",
       "    <tr>\n",
       "      <th>2</th>\n",
       "      <td>สถานเอกอัครราชทูตคูเวตงดออกวีซ่าแก่คนต่างชาติร...</td>\n",
       "      <td>0</td>\n",
       "    </tr>\n",
       "    <tr>\n",
       "      <th>3</th>\n",
       "      <td>สั่งตรวจสอบ\"ลูกตุ้มพลังธาตุ\"ของขลังฆ่าโควิด-19...</td>\n",
       "      <td>0</td>\n",
       "    </tr>\n",
       "    <tr>\n",
       "      <th>4</th>\n",
       "      <td>เราไม่รู้ว่าCovid-19กลัวขิงกับกัญชาจริงหรือไม่...</td>\n",
       "      <td>1</td>\n",
       "    </tr>\n",
       "    <tr>\n",
       "      <th>...</th>\n",
       "      <td>...</td>\n",
       "      <td>...</td>\n",
       "    </tr>\n",
       "    <tr>\n",
       "      <th>295</th>\n",
       "      <td>เอ็นจีโอติงกม.ห้ามแจก‘เข็มฉีดยา’ลดติดเชื้อเอชไ...</td>\n",
       "      <td>0</td>\n",
       "    </tr>\n",
       "    <tr>\n",
       "      <th>296</th>\n",
       "      <td>หมอเตือนเลี่ยงกินหมูดิบเสี่ยงโรคไข้หูดับ|||หมอ...</td>\n",
       "      <td>0</td>\n",
       "    </tr>\n",
       "    <tr>\n",
       "      <th>297</th>\n",
       "      <td>ชาวบ้านแห่เก็บ#ต้นอังกาบหนู•ชาวบ้านแห่เข้าไปเก...</td>\n",
       "      <td>1</td>\n",
       "    </tr>\n",
       "    <tr>\n",
       "      <th>298</th>\n",
       "      <td>ง่ายมากๆวิธีกำจัด“ติ่งเนื้อ”ด้วยวิธีธรรมชาติหา...</td>\n",
       "      <td>1</td>\n",
       "    </tr>\n",
       "    <tr>\n",
       "      <th>299</th>\n",
       "      <td>อดีตผอก.การประปาส่งเตือนมาครับ.✋✋อยากบอกเพื่อน...</td>\n",
       "      <td>1</td>\n",
       "    </tr>\n",
       "  </tbody>\n",
       "</table>\n",
       "<p>3436 rows × 2 columns</p>\n",
       "</div>"
      ],
      "text/plain": [
       "                                                  text  label\n",
       "0    เพื่อนๆรู้ไหมครับว่า\"การล้างมือ\"มีความสำคัญและ...      0\n",
       "1    เทรนด์กิ๊บเก๋...ป้องกันโรค|||ฮัดเช้ยยยย...!!ช่...      0\n",
       "2    สถานเอกอัครราชทูตคูเวตงดออกวีซ่าแก่คนต่างชาติร...      0\n",
       "3    สั่งตรวจสอบ\"ลูกตุ้มพลังธาตุ\"ของขลังฆ่าโควิด-19...      0\n",
       "4    เราไม่รู้ว่าCovid-19กลัวขิงกับกัญชาจริงหรือไม่...      1\n",
       "..                                                 ...    ...\n",
       "295  เอ็นจีโอติงกม.ห้ามแจก‘เข็มฉีดยา’ลดติดเชื้อเอชไ...      0\n",
       "296  หมอเตือนเลี่ยงกินหมูดิบเสี่ยงโรคไข้หูดับ|||หมอ...      0\n",
       "297  ชาวบ้านแห่เก็บ#ต้นอังกาบหนู•ชาวบ้านแห่เข้าไปเก...      1\n",
       "298  ง่ายมากๆวิธีกำจัด“ติ่งเนื้อ”ด้วยวิธีธรรมชาติหา...      1\n",
       "299  อดีตผอก.การประปาส่งเตือนมาครับ.✋✋อยากบอกเพื่อน...      1\n",
       "\n",
       "[3436 rows x 2 columns]"
      ]
     },
     "execution_count": 78,
     "metadata": {},
     "output_type": "execute_result"
    }
   ],
   "source": [
    "df"
   ]
  },
  {
   "cell_type": "code",
   "execution_count": 79,
   "metadata": {},
   "outputs": [
    {
     "data": {
      "text/plain": [
       "1    1878\n",
       "0    1558\n",
       "Name: label, dtype: int64"
      ]
     },
     "execution_count": 79,
     "metadata": {},
     "output_type": "execute_result"
    }
   ],
   "source": [
    "df['label'].value_counts()"
   ]
  },
  {
   "cell_type": "code",
   "execution_count": 80,
   "metadata": {},
   "outputs": [],
   "source": [
    "df.drop_duplicates(inplace=True)"
   ]
  },
  {
   "cell_type": "code",
   "execution_count": 81,
   "metadata": {},
   "outputs": [
    {
     "data": {
      "text/plain": [
       "1    1836\n",
       "0    1540\n",
       "Name: label, dtype: int64"
      ]
     },
     "execution_count": 81,
     "metadata": {},
     "output_type": "execute_result"
    }
   ],
   "source": [
    "df['label'].value_counts()"
   ]
  },
  {
   "attachments": {},
   "cell_type": "markdown",
   "metadata": {},
   "source": [
    "Normalize Text"
   ]
  },
  {
   "cell_type": "code",
   "execution_count": 82,
   "metadata": {},
   "outputs": [],
   "source": [
    "def normalize_double_quote(text: str):\n",
    "    all_quote = [\n",
    "    '“', # U+201c\n",
    "    '”', # U+201d\n",
    "    \"„\", # U+201e\n",
    "    '«', # U+00AB\n",
    "    '»', # U+00BB\n",
    "    '„', # U+201E\n",
    "    '“', # U+201C\n",
    "    '‟', # U+201F\n",
    "    '”', # U+201D\n",
    "    '❝', # U+275D\n",
    "    '❞', # U+275E\n",
    "    '〝', # U+301D\n",
    "    '〞', # U+301E\n",
    "    '〟', # U+301F\n",
    "    '＂', # U+FF02\n",
    "    ]\n",
    "    std_quote = \"\\\"\" #U+0022\n",
    "    table = str.maketrans(dict.fromkeys(all_quote, std_quote))\n",
    "    return text.translate(table)"
   ]
  },
  {
   "cell_type": "code",
   "execution_count": 84,
   "metadata": {},
   "outputs": [],
   "source": [
    "def normalize_single_quote(text: str):\n",
    "    all_quote = ['\\u02BB', '\\u02BC', '\\u066C', '\\u2018', '\\u2019', '\\u201A', '\\u275B', '\\u275C']\n",
    "    std_quote = \"\\'\"\n",
    "    table = str.maketrans(dict.fromkeys(all_quote, std_quote))\n",
    "    return text.translate(table)"
   ]
  },
  {
   "cell_type": "code",
   "execution_count": 92,
   "metadata": {},
   "outputs": [],
   "source": [
    "def preprocess_func(text):\n",
    "    new_text = unicodedata.normalize('NFKD', text)\n",
    "    new_text = pythainlp.util.normalize(new_text)\n",
    "    new_text = normalize_double_quote(new_text)\n",
    "    new_text = normalize_single_quote(new_text)\n",
    "    return new_text"
   ]
  },
  {
   "cell_type": "code",
   "execution_count": 93,
   "metadata": {},
   "outputs": [
    {
     "data": {
      "text/html": [
       "<div>\n",
       "<style scoped>\n",
       "    .dataframe tbody tr th:only-of-type {\n",
       "        vertical-align: middle;\n",
       "    }\n",
       "\n",
       "    .dataframe tbody tr th {\n",
       "        vertical-align: top;\n",
       "    }\n",
       "\n",
       "    .dataframe thead th {\n",
       "        text-align: right;\n",
       "    }\n",
       "</style>\n",
       "<table border=\"1\" class=\"dataframe\">\n",
       "  <thead>\n",
       "    <tr style=\"text-align: right;\">\n",
       "      <th></th>\n",
       "      <th>text</th>\n",
       "      <th>label</th>\n",
       "    </tr>\n",
       "  </thead>\n",
       "  <tbody>\n",
       "    <tr>\n",
       "      <th>0</th>\n",
       "      <td>เพื่อนๆรู้ไหมครับว่า\"การล้างมือ\"มีความสำคัญและ...</td>\n",
       "      <td>0</td>\n",
       "    </tr>\n",
       "    <tr>\n",
       "      <th>1</th>\n",
       "      <td>เทรนด์กิ๊บเก๋...ป้องกันโรค|||ฮัดเช้ยยยย...!!ช่...</td>\n",
       "      <td>0</td>\n",
       "    </tr>\n",
       "    <tr>\n",
       "      <th>2</th>\n",
       "      <td>สถานเอกอัครราชทูตคูเวตงดออกวีซ่าแก่คนต่างชาติร...</td>\n",
       "      <td>0</td>\n",
       "    </tr>\n",
       "    <tr>\n",
       "      <th>3</th>\n",
       "      <td>สั่งตรวจสอบ\"ลูกตุ้มพลังธาตุ\"ของขลังฆ่าโควิด-19...</td>\n",
       "      <td>0</td>\n",
       "    </tr>\n",
       "    <tr>\n",
       "      <th>4</th>\n",
       "      <td>เราไม่รู้ว่าCovid-19กลัวขิงกับกัญชาจริงหรือไม่...</td>\n",
       "      <td>1</td>\n",
       "    </tr>\n",
       "    <tr>\n",
       "      <th>...</th>\n",
       "      <td>...</td>\n",
       "      <td>...</td>\n",
       "    </tr>\n",
       "    <tr>\n",
       "      <th>295</th>\n",
       "      <td>เอ็นจีโอติงกม.ห้ามแจก‘เข็มฉีดยา’ลดติดเชื้อเอชไ...</td>\n",
       "      <td>0</td>\n",
       "    </tr>\n",
       "    <tr>\n",
       "      <th>296</th>\n",
       "      <td>หมอเตือนเลี่ยงกินหมูดิบเสี่ยงโรคไข้หูดับ|||หมอ...</td>\n",
       "      <td>0</td>\n",
       "    </tr>\n",
       "    <tr>\n",
       "      <th>297</th>\n",
       "      <td>ชาวบ้านแห่เก็บ#ต้นอังกาบหนู•ชาวบ้านแห่เข้าไปเก...</td>\n",
       "      <td>1</td>\n",
       "    </tr>\n",
       "    <tr>\n",
       "      <th>298</th>\n",
       "      <td>ง่ายมากๆวิธีกำจัด“ติ่งเนื้อ”ด้วยวิธีธรรมชาติหา...</td>\n",
       "      <td>1</td>\n",
       "    </tr>\n",
       "    <tr>\n",
       "      <th>299</th>\n",
       "      <td>อดีตผอก.การประปาส่งเตือนมาครับ.✋✋อยากบอกเพื่อน...</td>\n",
       "      <td>1</td>\n",
       "    </tr>\n",
       "  </tbody>\n",
       "</table>\n",
       "<p>3376 rows × 2 columns</p>\n",
       "</div>"
      ],
      "text/plain": [
       "                                                  text  label\n",
       "0    เพื่อนๆรู้ไหมครับว่า\"การล้างมือ\"มีความสำคัญและ...      0\n",
       "1    เทรนด์กิ๊บเก๋...ป้องกันโรค|||ฮัดเช้ยยยย...!!ช่...      0\n",
       "2    สถานเอกอัครราชทูตคูเวตงดออกวีซ่าแก่คนต่างชาติร...      0\n",
       "3    สั่งตรวจสอบ\"ลูกตุ้มพลังธาตุ\"ของขลังฆ่าโควิด-19...      0\n",
       "4    เราไม่รู้ว่าCovid-19กลัวขิงกับกัญชาจริงหรือไม่...      1\n",
       "..                                                 ...    ...\n",
       "295  เอ็นจีโอติงกม.ห้ามแจก‘เข็มฉีดยา’ลดติดเชื้อเอชไ...      0\n",
       "296  หมอเตือนเลี่ยงกินหมูดิบเสี่ยงโรคไข้หูดับ|||หมอ...      0\n",
       "297  ชาวบ้านแห่เก็บ#ต้นอังกาบหนู•ชาวบ้านแห่เข้าไปเก...      1\n",
       "298  ง่ายมากๆวิธีกำจัด“ติ่งเนื้อ”ด้วยวิธีธรรมชาติหา...      1\n",
       "299  อดีตผอก.การประปาส่งเตือนมาครับ.✋✋อยากบอกเพื่อน...      1\n",
       "\n",
       "[3376 rows x 2 columns]"
      ]
     },
     "execution_count": 93,
     "metadata": {},
     "output_type": "execute_result"
    }
   ],
   "source": [
    "df"
   ]
  },
  {
   "cell_type": "code",
   "execution_count": 94,
   "metadata": {},
   "outputs": [],
   "source": [
    "df['text'] = df['text'].map(lambda x: preprocess_func(x))"
   ]
  },
  {
   "cell_type": "code",
   "execution_count": 95,
   "metadata": {},
   "outputs": [
    {
     "data": {
      "text/html": [
       "<div>\n",
       "<style scoped>\n",
       "    .dataframe tbody tr th:only-of-type {\n",
       "        vertical-align: middle;\n",
       "    }\n",
       "\n",
       "    .dataframe tbody tr th {\n",
       "        vertical-align: top;\n",
       "    }\n",
       "\n",
       "    .dataframe thead th {\n",
       "        text-align: right;\n",
       "    }\n",
       "</style>\n",
       "<table border=\"1\" class=\"dataframe\">\n",
       "  <thead>\n",
       "    <tr style=\"text-align: right;\">\n",
       "      <th></th>\n",
       "      <th>text</th>\n",
       "      <th>label</th>\n",
       "    </tr>\n",
       "  </thead>\n",
       "  <tbody>\n",
       "    <tr>\n",
       "      <th>0</th>\n",
       "      <td>เพื่อนๆรู้ไหมครับว่า\"การล้างมือ\"มีความสำคัญและ...</td>\n",
       "      <td>0</td>\n",
       "    </tr>\n",
       "    <tr>\n",
       "      <th>1</th>\n",
       "      <td>เทรนด์กิ๊บเก๋...ป้องกันโรค|||ฮัดเช้ยยยย...!!ช่...</td>\n",
       "      <td>0</td>\n",
       "    </tr>\n",
       "    <tr>\n",
       "      <th>2</th>\n",
       "      <td>สถานเอกอัครราชทูตคูเวตงดออกวีซ่าแก่คนต่างชาติร...</td>\n",
       "      <td>0</td>\n",
       "    </tr>\n",
       "    <tr>\n",
       "      <th>3</th>\n",
       "      <td>สั่งตรวจสอบ\"ลูกตุ้มพลังธาตุ\"ของขลังฆ่าโควิด-19...</td>\n",
       "      <td>0</td>\n",
       "    </tr>\n",
       "    <tr>\n",
       "      <th>4</th>\n",
       "      <td>เราไม่รู้ว่าCovid-19กลัวขิงกับกัญชาจริงหรือไม่...</td>\n",
       "      <td>1</td>\n",
       "    </tr>\n",
       "    <tr>\n",
       "      <th>...</th>\n",
       "      <td>...</td>\n",
       "      <td>...</td>\n",
       "    </tr>\n",
       "    <tr>\n",
       "      <th>295</th>\n",
       "      <td>เอ็นจีโอติงกม.ห้ามแจก'เข็มฉีดยา'ลดติดเชื้อเอชไ...</td>\n",
       "      <td>0</td>\n",
       "    </tr>\n",
       "    <tr>\n",
       "      <th>296</th>\n",
       "      <td>หมอเตือนเลี่ยงกินหมูดิบเสี่ยงโรคไข้หูดับ|||หมอ...</td>\n",
       "      <td>0</td>\n",
       "    </tr>\n",
       "    <tr>\n",
       "      <th>297</th>\n",
       "      <td>ชาวบ้านแห่เก็บ#ต้นอังกาบหนู•ชาวบ้านแห่เข้าไปเก...</td>\n",
       "      <td>1</td>\n",
       "    </tr>\n",
       "    <tr>\n",
       "      <th>298</th>\n",
       "      <td>ง่ายมากๆวิธีกำจัด\"ติ่งเนื้อ\"ด้วยวิธีธรรมชาติหา...</td>\n",
       "      <td>1</td>\n",
       "    </tr>\n",
       "    <tr>\n",
       "      <th>299</th>\n",
       "      <td>อดีตผอก.การประปาส่งเตือนมาครับ.✋✋อยากบอกเพื่อน...</td>\n",
       "      <td>1</td>\n",
       "    </tr>\n",
       "  </tbody>\n",
       "</table>\n",
       "<p>3376 rows × 2 columns</p>\n",
       "</div>"
      ],
      "text/plain": [
       "                                                  text  label\n",
       "0    เพื่อนๆรู้ไหมครับว่า\"การล้างมือ\"มีความสำคัญและ...      0\n",
       "1    เทรนด์กิ๊บเก๋...ป้องกันโรค|||ฮัดเช้ยยยย...!!ช่...      0\n",
       "2    สถานเอกอัครราชทูตคูเวตงดออกวีซ่าแก่คนต่างชาติร...      0\n",
       "3    สั่งตรวจสอบ\"ลูกตุ้มพลังธาตุ\"ของขลังฆ่าโควิด-19...      0\n",
       "4    เราไม่รู้ว่าCovid-19กลัวขิงกับกัญชาจริงหรือไม่...      1\n",
       "..                                                 ...    ...\n",
       "295  เอ็นจีโอติงกม.ห้ามแจก'เข็มฉีดยา'ลดติดเชื้อเอชไ...      0\n",
       "296  หมอเตือนเลี่ยงกินหมูดิบเสี่ยงโรคไข้หูดับ|||หมอ...      0\n",
       "297  ชาวบ้านแห่เก็บ#ต้นอังกาบหนู•ชาวบ้านแห่เข้าไปเก...      1\n",
       "298  ง่ายมากๆวิธีกำจัด\"ติ่งเนื้อ\"ด้วยวิธีธรรมชาติหา...      1\n",
       "299  อดีตผอก.การประปาส่งเตือนมาครับ.✋✋อยากบอกเพื่อน...      1\n",
       "\n",
       "[3376 rows x 2 columns]"
      ]
     },
     "execution_count": 95,
     "metadata": {},
     "output_type": "execute_result"
    }
   ],
   "source": [
    "df"
   ]
  },
  {
   "cell_type": "code",
   "execution_count": 102,
   "metadata": {},
   "outputs": [
    {
     "data": {
      "text/plain": [
       "1    1836\n",
       "0    1540\n",
       "Name: label, dtype: int64"
      ]
     },
     "execution_count": 102,
     "metadata": {},
     "output_type": "execute_result"
    }
   ],
   "source": [
    "df['label'].value_counts()"
   ]
  },
  {
   "attachments": {},
   "cell_type": "markdown",
   "metadata": {},
   "source": [
    "Split data"
   ]
  },
  {
   "cell_type": "code",
   "execution_count": 103,
   "metadata": {},
   "outputs": [],
   "source": [
    "fake_news_data = Dataset.from_pandas(df)"
   ]
  },
  {
   "cell_type": "code",
   "execution_count": 104,
   "metadata": {},
   "outputs": [
    {
     "data": {
      "text/plain": [
       "Dataset({\n",
       "    features: ['text', 'label', '__index_level_0__'],\n",
       "    num_rows: 3376\n",
       "})"
      ]
     },
     "execution_count": 104,
     "metadata": {},
     "output_type": "execute_result"
    }
   ],
   "source": [
    "fake_news_data"
   ]
  },
  {
   "cell_type": "code",
   "execution_count": 105,
   "metadata": {},
   "outputs": [
    {
     "data": {
      "text/plain": [
       "Dataset({\n",
       "    features: ['text', 'label'],\n",
       "    num_rows: 3376\n",
       "})"
      ]
     },
     "execution_count": 105,
     "metadata": {},
     "output_type": "execute_result"
    }
   ],
   "source": [
    "fake_news_data.remove_columns('__index_level_0__')"
   ]
  },
  {
   "cell_type": "code",
   "execution_count": 106,
   "metadata": {},
   "outputs": [],
   "source": [
    "train_testvalid = fake_news_data.train_test_split(test_size=0.3) # 70% train, 30% test + validation\n",
    "test_valid = train_testvalid['test'].train_test_split(test_size=0.5) # Split the 30% test + valid in half test, half valid\n",
    "train_test_valid_dataset = DatasetDict({\n",
    "    'train': train_testvalid['train'].remove_columns('__index_level_0__'),\n",
    "    'test': test_valid['test'].remove_columns('__index_level_0__'),\n",
    "    'valid': test_valid['train'].remove_columns('__index_level_0__')})"
   ]
  },
  {
   "cell_type": "code",
   "execution_count": 107,
   "metadata": {},
   "outputs": [
    {
     "data": {
      "text/plain": [
       "DatasetDict({\n",
       "    train: Dataset({\n",
       "        features: ['text', 'label'],\n",
       "        num_rows: 2363\n",
       "    })\n",
       "    test: Dataset({\n",
       "        features: ['text', 'label'],\n",
       "        num_rows: 507\n",
       "    })\n",
       "    valid: Dataset({\n",
       "        features: ['text', 'label'],\n",
       "        num_rows: 506\n",
       "    })\n",
       "})"
      ]
     },
     "execution_count": 107,
     "metadata": {},
     "output_type": "execute_result"
    }
   ],
   "source": [
    "train_test_valid_dataset"
   ]
  },
  {
   "cell_type": "code",
   "execution_count": 108,
   "metadata": {},
   "outputs": [
    {
     "data": {
      "application/vnd.jupyter.widget-view+json": {
       "model_id": "dfe224324e834b0581335bbd3c5a0097",
       "version_major": 2,
       "version_minor": 0
      },
      "text/plain": [
       "Creating CSV from Arrow format:   0%|          | 0/3 [00:00<?, ?ba/s]"
      ]
     },
     "metadata": {},
     "output_type": "display_data"
    },
    {
     "data": {
      "application/vnd.jupyter.widget-view+json": {
       "model_id": "188222f623f245e5a4c745cdd9b1f119",
       "version_major": 2,
       "version_minor": 0
      },
      "text/plain": [
       "Creating CSV from Arrow format:   0%|          | 0/1 [00:00<?, ?ba/s]"
      ]
     },
     "metadata": {},
     "output_type": "display_data"
    },
    {
     "data": {
      "application/vnd.jupyter.widget-view+json": {
       "model_id": "0bfda2cd55d04a819626fda07e0c4677",
       "version_major": 2,
       "version_minor": 0
      },
      "text/plain": [
       "Creating CSV from Arrow format:   0%|          | 0/1 [00:00<?, ?ba/s]"
      ]
     },
     "metadata": {},
     "output_type": "display_data"
    }
   ],
   "source": [
    "for split, dataset in train_test_valid_dataset.items():\n",
    "    dataset.to_csv(f\"{split}_data_fake_news.csv\", index=None)"
   ]
  },
  {
   "attachments": {},
   "cell_type": "markdown",
   "metadata": {},
   "source": [
    "Check Imbalance"
   ]
  },
  {
   "cell_type": "code",
   "execution_count": 11,
   "metadata": {},
   "outputs": [],
   "source": [
    "train_df = pd.read_csv('./train_data_fake_news.csv')\n",
    "val_df = pd.read_csv('./valid_data_fake_news.csv')\n",
    "test_df = pd.read_csv('./test_data_fake_news.csv')"
   ]
  },
  {
   "cell_type": "code",
   "execution_count": 110,
   "metadata": {},
   "outputs": [
    {
     "data": {
      "text/plain": [
       "<AxesSubplot: ylabel='Frequency'>"
      ]
     },
     "execution_count": 110,
     "metadata": {},
     "output_type": "execute_result"
    },
    {
     "data": {
      "image/png": "[encoded data removed]",
      "text/plain": [
       "<Figure size 640x480 with 1 Axes>"
      ]
     },
     "metadata": {},
     "output_type": "display_data"
    }
   ],
   "source": [
    "train_df.plot.hist()"
   ]
  },
  {
   "cell_type": "code",
   "execution_count": 111,
   "metadata": {},
   "outputs": [
    {
     "data": {
      "text/plain": [
       "<AxesSubplot: ylabel='Frequency'>"
      ]
     },
     "execution_count": 111,
     "metadata": {},
     "output_type": "execute_result"
    },
    {
     "data": {
      "image/png": "[encoded data removed]",
      "text/plain": [
       "<Figure size 640x480 with 1 Axes>"
      ]
     },
     "metadata": {},
     "output_type": "display_data"
    }
   ],
   "source": [
    "val_df.plot.hist()"
   ]
  },
  {
   "cell_type": "code",
   "execution_count": 113,
   "metadata": {},
   "outputs": [
    {
     "data": {
      "text/plain": [
       "<AxesSubplot: ylabel='Frequency'>"
      ]
     },
     "execution_count": 113,
     "metadata": {},
     "output_type": "execute_result"
    },
    {
     "data": {
      "image/png": "[encoded data removed]",
      "text/plain": [
       "<Figure size 640x480 with 1 Axes>"
      ]
     },
     "metadata": {},
     "output_type": "display_data"
    }
   ],
   "source": [
    "test_df.plot.hist()"
   ]
  },
  {
   "attachments": {},
   "cell_type": "markdown",
   "metadata": {},
   "source": [
    "Data Augmentation"
   ]
  },
  {
   "cell_type": "code",
   "execution_count": 4,
   "metadata": {},
   "outputs": [],
   "source": [
    "df_aug = pd.read_csv(\"./Data Augmentation (train).csv\")"
   ]
  },
  {
   "cell_type": "code",
   "execution_count": 5,
   "metadata": {},
   "outputs": [
    {
     "data": {
      "text/html": [
       "<div>\n",
       "<style scoped>\n",
       "    .dataframe tbody tr th:only-of-type {\n",
       "        vertical-align: middle;\n",
       "    }\n",
       "\n",
       "    .dataframe tbody tr th {\n",
       "        vertical-align: top;\n",
       "    }\n",
       "\n",
       "    .dataframe thead th {\n",
       "        text-align: right;\n",
       "    }\n",
       "</style>\n",
       "<table border=\"1\" class=\"dataframe\">\n",
       "  <thead>\n",
       "    <tr style=\"text-align: right;\">\n",
       "      <th></th>\n",
       "      <th>text</th>\n",
       "      <th>label</th>\n",
       "      <th>th_to_en</th>\n",
       "      <th>en_to_th</th>\n",
       "    </tr>\n",
       "  </thead>\n",
       "  <tbody>\n",
       "    <tr>\n",
       "      <th>0</th>\n",
       "      <td>สธ.ประชุมด่วน!มาตรการรับมือไวรัสโคโรนาสายพันธุ...</td>\n",
       "      <td>0</td>\n",
       "      <td>The Ministry of Public Health urgently convene...</td>\n",
       "      <td>กระทรวงสาธารณสุขจัดประชุมอย่างเร่งด่วน! ไวรัส ...</td>\n",
       "    </tr>\n",
       "    <tr>\n",
       "      <th>1</th>\n",
       "      <td>คุณทวดวัย104ปีเผยเคล็ดลับอายุยืนมีวันนี้ได้เพร...</td>\n",
       "      <td>1</td>\n",
       "      <td>104 -year -old, revealing a long -standing sec...</td>\n",
       "      <td>104 -ปี -เปิดเผยความลับที่ยาวนานในวันนี้เนื่อง...</td>\n",
       "    </tr>\n",
       "    <tr>\n",
       "      <th>2</th>\n",
       "      <td>อย่าโยนทิ้ง!เปลือกมะนาวบรรเทาอาการปวดข้อให้หาย...</td>\n",
       "      <td>1</td>\n",
       "      <td>Do not throw away! Lemon shells can relieve jo...</td>\n",
       "      <td>อย่าทิ้ง! เปลือกมะนาวสามารถบรรเทาอาการปวดข้อ |...</td>\n",
       "    </tr>\n",
       "    <tr>\n",
       "      <th>3</th>\n",
       "      <td>หิมะถล่มฝรั่งเศส!เร่งเคลียร์ถนนบนเทือกเขาหลังน...</td>\n",
       "      <td>0</td>\n",
       "      <td>French snow! Accelerates the roads on the moun...</td>\n",
       "      <td>หิมะฝรั่งเศส! เร่งถนนบนภูเขาหลังจากนักท่องเที่...</td>\n",
       "    </tr>\n",
       "    <tr>\n",
       "      <th>4</th>\n",
       "      <td>ผู้เชี่ยวชาญชี้คนแห่ซื้อทิชชู่เพียงเพราะแตกตื่...</td>\n",
       "      <td>0</td>\n",
       "      <td>Specialist pointed out that people flocked to ...</td>\n",
       "      <td>ผู้เชี่ยวชาญชี้ให้เห็นว่าผู้คนแห่กันซื้อเนื้อเ...</td>\n",
       "    </tr>\n",
       "    <tr>\n",
       "      <th>...</th>\n",
       "      <td>...</td>\n",
       "      <td>...</td>\n",
       "      <td>...</td>\n",
       "      <td>...</td>\n",
       "    </tr>\n",
       "    <tr>\n",
       "      <th>2358</th>\n",
       "      <td>5ขั้นตอนง่ายๆในการนวดหน้าอกอัพไซส์ให้ใหญ่ขึ้นด...</td>\n",
       "      <td>1</td>\n",
       "      <td>5 simple steps to massage the chest up size to...</td>\n",
       "      <td>5 ขั้นตอนง่ายๆในการนวดขนาดหน้าอกให้ใหญ่ขึ้นด้ว...</td>\n",
       "    </tr>\n",
       "    <tr>\n",
       "      <th>2359</th>\n",
       "      <td>การแช่ผ้าไว้กับผงซักฟอกที่เข้มข้นพอควรแบบที่เร...</td>\n",
       "      <td>1</td>\n",
       "      <td>Soaking in the fabric with a very intense dete...</td>\n",
       "      <td>การแช่ในผ้าด้วยผงซักฟอกที่เข้มข้นมากที่เราเคยท...</td>\n",
       "    </tr>\n",
       "    <tr>\n",
       "      <th>2360</th>\n",
       "      <td>เผยสูตรฟันขาว5เทคนิคที่จะทำให้ฟันของคุณกลับมาข...</td>\n",
       "      <td>1</td>\n",
       "      <td>Revealing the 5 white teeth formulas that will...</td>\n",
       "      <td>การเปิดเผยสูตรฟันขาว 5 สูตรที่จะทำให้ฟันของคุณ...</td>\n",
       "    </tr>\n",
       "    <tr>\n",
       "      <th>2361</th>\n",
       "      <td>องค์การเภสัชฯเดินหน้าพัฒนา\"ยาฟาวิพิราเวียร์\"รั...</td>\n",
       "      <td>0</td>\n",
       "      <td>The Pharmaceutical Organization continues to d...</td>\n",
       "      <td>องค์กรเภสัชกรรมยังคงพัฒนา \"favidipravier\" เพื่...</td>\n",
       "    </tr>\n",
       "    <tr>\n",
       "      <th>2362</th>\n",
       "      <td>ทานดีคอนแทคบ้าง</td>\n",
       "      <td>1</td>\n",
       "      <td>Eat some contacts</td>\n",
       "      <td>กินที่ติดต่อ</td>\n",
       "    </tr>\n",
       "  </tbody>\n",
       "</table>\n",
       "<p>2363 rows × 4 columns</p>\n",
       "</div>"
      ],
      "text/plain": [
       "                                                   text  label  \\\n",
       "0     สธ.ประชุมด่วน!มาตรการรับมือไวรัสโคโรนาสายพันธุ...      0   \n",
       "1     คุณทวดวัย104ปีเผยเคล็ดลับอายุยืนมีวันนี้ได้เพร...      1   \n",
       "2     อย่าโยนทิ้ง!เปลือกมะนาวบรรเทาอาการปวดข้อให้หาย...      1   \n",
       "3     หิมะถล่มฝรั่งเศส!เร่งเคลียร์ถนนบนเทือกเขาหลังน...      0   \n",
       "4     ผู้เชี่ยวชาญชี้คนแห่ซื้อทิชชู่เพียงเพราะแตกตื่...      0   \n",
       "...                                                 ...    ...   \n",
       "2358  5ขั้นตอนง่ายๆในการนวดหน้าอกอัพไซส์ให้ใหญ่ขึ้นด...      1   \n",
       "2359  การแช่ผ้าไว้กับผงซักฟอกที่เข้มข้นพอควรแบบที่เร...      1   \n",
       "2360  เผยสูตรฟันขาว5เทคนิคที่จะทำให้ฟันของคุณกลับมาข...      1   \n",
       "2361  องค์การเภสัชฯเดินหน้าพัฒนา\"ยาฟาวิพิราเวียร์\"รั...      0   \n",
       "2362                                    ทานดีคอนแทคบ้าง      1   \n",
       "\n",
       "                                               th_to_en  \\\n",
       "0     The Ministry of Public Health urgently convene...   \n",
       "1     104 -year -old, revealing a long -standing sec...   \n",
       "2     Do not throw away! Lemon shells can relieve jo...   \n",
       "3     French snow! Accelerates the roads on the moun...   \n",
       "4     Specialist pointed out that people flocked to ...   \n",
       "...                                                 ...   \n",
       "2358  5 simple steps to massage the chest up size to...   \n",
       "2359  Soaking in the fabric with a very intense dete...   \n",
       "2360  Revealing the 5 white teeth formulas that will...   \n",
       "2361  The Pharmaceutical Organization continues to d...   \n",
       "2362                                  Eat some contacts   \n",
       "\n",
       "                                               en_to_th  \n",
       "0     กระทรวงสาธารณสุขจัดประชุมอย่างเร่งด่วน! ไวรัส ...  \n",
       "1     104 -ปี -เปิดเผยความลับที่ยาวนานในวันนี้เนื่อง...  \n",
       "2     อย่าทิ้ง! เปลือกมะนาวสามารถบรรเทาอาการปวดข้อ |...  \n",
       "3     หิมะฝรั่งเศส! เร่งถนนบนภูเขาหลังจากนักท่องเที่...  \n",
       "4     ผู้เชี่ยวชาญชี้ให้เห็นว่าผู้คนแห่กันซื้อเนื้อเ...  \n",
       "...                                                 ...  \n",
       "2358  5 ขั้นตอนง่ายๆในการนวดขนาดหน้าอกให้ใหญ่ขึ้นด้ว...  \n",
       "2359  การแช่ในผ้าด้วยผงซักฟอกที่เข้มข้นมากที่เราเคยท...  \n",
       "2360  การเปิดเผยสูตรฟันขาว 5 สูตรที่จะทำให้ฟันของคุณ...  \n",
       "2361  องค์กรเภสัชกรรมยังคงพัฒนา \"favidipravier\" เพื่...  \n",
       "2362                                       กินที่ติดต่อ  \n",
       "\n",
       "[2363 rows x 4 columns]"
      ]
     },
     "execution_count": 5,
     "metadata": {},
     "output_type": "execute_result"
    }
   ],
   "source": [
    "df_aug"
   ]
  },
  {
   "cell_type": "code",
   "execution_count": 11,
   "metadata": {},
   "outputs": [],
   "source": [
    "model_sim = SentenceTransformer(\"./paraphrase-multilingual-mpnet-base-v2\")"
   ]
  },
  {
   "cell_type": "code",
   "execution_count": 16,
   "metadata": {},
   "outputs": [],
   "source": [
    "def cosin_sim(main_sent, comp_sent):\n",
    "    main_embeddings = model_sim.encode(main_sent, convert_to_tensor=True)\n",
    "    comp_embeddings = model_sim.encode(comp_sent, convert_to_tensor=True)\n",
    "    sim_val = util.cos_sim(main_embeddings, comp_embeddings)[0][0]\n",
    "    return sim_val.item()"
   ]
  },
  {
   "cell_type": "code",
   "execution_count": 17,
   "metadata": {},
   "outputs": [],
   "source": [
    "sim_val = cosin_sim(\"อาหารอร่อยมาก\", \"อาหารร้านนี้ไม่เคยไม่อร่อยเลย\")"
   ]
  },
  {
   "cell_type": "code",
   "execution_count": 18,
   "metadata": {},
   "outputs": [
    {
     "data": {
      "text/plain": [
       "0.7212576270103455"
      ]
     },
     "execution_count": 18,
     "metadata": {},
     "output_type": "execute_result"
    }
   ],
   "source": [
    "sim_val"
   ]
  },
  {
   "cell_type": "code",
   "execution_count": 19,
   "metadata": {},
   "outputs": [],
   "source": [
    "df_aug_2 = df_aug.copy()"
   ]
  },
  {
   "cell_type": "code",
   "execution_count": 20,
   "metadata": {},
   "outputs": [],
   "source": [
    "df_aug_2['sent_sim'] = df_aug_2.apply(lambda x: cosin_sim(x.text, x.en_to_th), axis=1)"
   ]
  },
  {
   "cell_type": "code",
   "execution_count": 21,
   "metadata": {},
   "outputs": [
    {
     "data": {
      "text/html": [
       "<div>\n",
       "<style scoped>\n",
       "    .dataframe tbody tr th:only-of-type {\n",
       "        vertical-align: middle;\n",
       "    }\n",
       "\n",
       "    .dataframe tbody tr th {\n",
       "        vertical-align: top;\n",
       "    }\n",
       "\n",
       "    .dataframe thead th {\n",
       "        text-align: right;\n",
       "    }\n",
       "</style>\n",
       "<table border=\"1\" class=\"dataframe\">\n",
       "  <thead>\n",
       "    <tr style=\"text-align: right;\">\n",
       "      <th></th>\n",
       "      <th>text</th>\n",
       "      <th>label</th>\n",
       "      <th>th_to_en</th>\n",
       "      <th>en_to_th</th>\n",
       "      <th>sent_sim</th>\n",
       "    </tr>\n",
       "  </thead>\n",
       "  <tbody>\n",
       "    <tr>\n",
       "      <th>0</th>\n",
       "      <td>สธ.ประชุมด่วน!มาตรการรับมือไวรัสโคโรนาสายพันธุ...</td>\n",
       "      <td>0</td>\n",
       "      <td>The Ministry of Public Health urgently convene...</td>\n",
       "      <td>กระทรวงสาธารณสุขจัดประชุมอย่างเร่งด่วน! ไวรัส ...</td>\n",
       "      <td>0.908934</td>\n",
       "    </tr>\n",
       "    <tr>\n",
       "      <th>1</th>\n",
       "      <td>คุณทวดวัย104ปีเผยเคล็ดลับอายุยืนมีวันนี้ได้เพร...</td>\n",
       "      <td>1</td>\n",
       "      <td>104 -year -old, revealing a long -standing sec...</td>\n",
       "      <td>104 -ปี -เปิดเผยความลับที่ยาวนานในวันนี้เนื่อง...</td>\n",
       "      <td>0.694067</td>\n",
       "    </tr>\n",
       "    <tr>\n",
       "      <th>2</th>\n",
       "      <td>อย่าโยนทิ้ง!เปลือกมะนาวบรรเทาอาการปวดข้อให้หาย...</td>\n",
       "      <td>1</td>\n",
       "      <td>Do not throw away! Lemon shells can relieve jo...</td>\n",
       "      <td>อย่าทิ้ง! เปลือกมะนาวสามารถบรรเทาอาการปวดข้อ |...</td>\n",
       "      <td>0.944129</td>\n",
       "    </tr>\n",
       "    <tr>\n",
       "      <th>3</th>\n",
       "      <td>หิมะถล่มฝรั่งเศส!เร่งเคลียร์ถนนบนเทือกเขาหลังน...</td>\n",
       "      <td>0</td>\n",
       "      <td>French snow! Accelerates the roads on the moun...</td>\n",
       "      <td>หิมะฝรั่งเศส! เร่งถนนบนภูเขาหลังจากนักท่องเที่...</td>\n",
       "      <td>0.972445</td>\n",
       "    </tr>\n",
       "    <tr>\n",
       "      <th>4</th>\n",
       "      <td>ผู้เชี่ยวชาญชี้คนแห่ซื้อทิชชู่เพียงเพราะแตกตื่...</td>\n",
       "      <td>0</td>\n",
       "      <td>Specialist pointed out that people flocked to ...</td>\n",
       "      <td>ผู้เชี่ยวชาญชี้ให้เห็นว่าผู้คนแห่กันซื้อเนื้อเ...</td>\n",
       "      <td>0.865598</td>\n",
       "    </tr>\n",
       "    <tr>\n",
       "      <th>...</th>\n",
       "      <td>...</td>\n",
       "      <td>...</td>\n",
       "      <td>...</td>\n",
       "      <td>...</td>\n",
       "      <td>...</td>\n",
       "    </tr>\n",
       "    <tr>\n",
       "      <th>2358</th>\n",
       "      <td>5ขั้นตอนง่ายๆในการนวดหน้าอกอัพไซส์ให้ใหญ่ขึ้นด...</td>\n",
       "      <td>1</td>\n",
       "      <td>5 simple steps to massage the chest up size to...</td>\n",
       "      <td>5 ขั้นตอนง่ายๆในการนวดขนาดหน้าอกให้ใหญ่ขึ้นด้ว...</td>\n",
       "      <td>0.985011</td>\n",
       "    </tr>\n",
       "    <tr>\n",
       "      <th>2359</th>\n",
       "      <td>การแช่ผ้าไว้กับผงซักฟอกที่เข้มข้นพอควรแบบที่เร...</td>\n",
       "      <td>1</td>\n",
       "      <td>Soaking in the fabric with a very intense dete...</td>\n",
       "      <td>การแช่ในผ้าด้วยผงซักฟอกที่เข้มข้นมากที่เราเคยท...</td>\n",
       "      <td>0.929193</td>\n",
       "    </tr>\n",
       "    <tr>\n",
       "      <th>2360</th>\n",
       "      <td>เผยสูตรฟันขาว5เทคนิคที่จะทำให้ฟันของคุณกลับมาข...</td>\n",
       "      <td>1</td>\n",
       "      <td>Revealing the 5 white teeth formulas that will...</td>\n",
       "      <td>การเปิดเผยสูตรฟันขาว 5 สูตรที่จะทำให้ฟันของคุณ...</td>\n",
       "      <td>0.959154</td>\n",
       "    </tr>\n",
       "    <tr>\n",
       "      <th>2361</th>\n",
       "      <td>องค์การเภสัชฯเดินหน้าพัฒนา\"ยาฟาวิพิราเวียร์\"รั...</td>\n",
       "      <td>0</td>\n",
       "      <td>The Pharmaceutical Organization continues to d...</td>\n",
       "      <td>องค์กรเภสัชกรรมยังคงพัฒนา \"favidipravier\" เพื่...</td>\n",
       "      <td>0.884058</td>\n",
       "    </tr>\n",
       "    <tr>\n",
       "      <th>2362</th>\n",
       "      <td>ทานดีคอนแทคบ้าง</td>\n",
       "      <td>1</td>\n",
       "      <td>Eat some contacts</td>\n",
       "      <td>กินที่ติดต่อ</td>\n",
       "      <td>0.865159</td>\n",
       "    </tr>\n",
       "  </tbody>\n",
       "</table>\n",
       "<p>2363 rows × 5 columns</p>\n",
       "</div>"
      ],
      "text/plain": [
       "                                                   text  label  \\\n",
       "0     สธ.ประชุมด่วน!มาตรการรับมือไวรัสโคโรนาสายพันธุ...      0   \n",
       "1     คุณทวดวัย104ปีเผยเคล็ดลับอายุยืนมีวันนี้ได้เพร...      1   \n",
       "2     อย่าโยนทิ้ง!เปลือกมะนาวบรรเทาอาการปวดข้อให้หาย...      1   \n",
       "3     หิมะถล่มฝรั่งเศส!เร่งเคลียร์ถนนบนเทือกเขาหลังน...      0   \n",
       "4     ผู้เชี่ยวชาญชี้คนแห่ซื้อทิชชู่เพียงเพราะแตกตื่...      0   \n",
       "...                                                 ...    ...   \n",
       "2358  5ขั้นตอนง่ายๆในการนวดหน้าอกอัพไซส์ให้ใหญ่ขึ้นด...      1   \n",
       "2359  การแช่ผ้าไว้กับผงซักฟอกที่เข้มข้นพอควรแบบที่เร...      1   \n",
       "2360  เผยสูตรฟันขาว5เทคนิคที่จะทำให้ฟันของคุณกลับมาข...      1   \n",
       "2361  องค์การเภสัชฯเดินหน้าพัฒนา\"ยาฟาวิพิราเวียร์\"รั...      0   \n",
       "2362                                    ทานดีคอนแทคบ้าง      1   \n",
       "\n",
       "                                               th_to_en  \\\n",
       "0     The Ministry of Public Health urgently convene...   \n",
       "1     104 -year -old, revealing a long -standing sec...   \n",
       "2     Do not throw away! Lemon shells can relieve jo...   \n",
       "3     French snow! Accelerates the roads on the moun...   \n",
       "4     Specialist pointed out that people flocked to ...   \n",
       "...                                                 ...   \n",
       "2358  5 simple steps to massage the chest up size to...   \n",
       "2359  Soaking in the fabric with a very intense dete...   \n",
       "2360  Revealing the 5 white teeth formulas that will...   \n",
       "2361  The Pharmaceutical Organization continues to d...   \n",
       "2362                                  Eat some contacts   \n",
       "\n",
       "                                               en_to_th  sent_sim  \n",
       "0     กระทรวงสาธารณสุขจัดประชุมอย่างเร่งด่วน! ไวรัส ...  0.908934  \n",
       "1     104 -ปี -เปิดเผยความลับที่ยาวนานในวันนี้เนื่อง...  0.694067  \n",
       "2     อย่าทิ้ง! เปลือกมะนาวสามารถบรรเทาอาการปวดข้อ |...  0.944129  \n",
       "3     หิมะฝรั่งเศส! เร่งถนนบนภูเขาหลังจากนักท่องเที่...  0.972445  \n",
       "4     ผู้เชี่ยวชาญชี้ให้เห็นว่าผู้คนแห่กันซื้อเนื้อเ...  0.865598  \n",
       "...                                                 ...       ...  \n",
       "2358  5 ขั้นตอนง่ายๆในการนวดขนาดหน้าอกให้ใหญ่ขึ้นด้ว...  0.985011  \n",
       "2359  การแช่ในผ้าด้วยผงซักฟอกที่เข้มข้นมากที่เราเคยท...  0.929193  \n",
       "2360  การเปิดเผยสูตรฟันขาว 5 สูตรที่จะทำให้ฟันของคุณ...  0.959154  \n",
       "2361  องค์กรเภสัชกรรมยังคงพัฒนา \"favidipravier\" เพื่...  0.884058  \n",
       "2362                                       กินที่ติดต่อ  0.865159  \n",
       "\n",
       "[2363 rows x 5 columns]"
      ]
     },
     "execution_count": 21,
     "metadata": {},
     "output_type": "execute_result"
    }
   ],
   "source": [
    "df_aug_2"
   ]
  },
  {
   "cell_type": "code",
   "execution_count": 29,
   "metadata": {},
   "outputs": [],
   "source": [
    "def bleu_score(main_sent, comp_sent):\n",
    "    main_cut = pythainlp.word_tokenize(main_sent)\n",
    "    comp_cut = pythainlp.word_tokenize(main_sent)\n",
    "    return sentence_bleu(main_cut, comp_cut)"
   ]
  },
  {
   "cell_type": "code",
   "execution_count": 30,
   "metadata": {},
   "outputs": [
    {
     "name": "stderr",
     "output_type": "stream",
     "text": [
      "c:\\Users\\foofo\\Desktop\\workspace\\fake_news_project\\venv\\lib\\site-packages\\nltk\\translate\\bleu_score.py:552: UserWarning: \n",
      "The hypothesis contains 0 counts of 2-gram overlaps.\n",
      "Therefore the BLEU score evaluates to 0, independently of\n",
      "how many N-gram overlaps of lower order it contains.\n",
      "Consider using lower n-gram order or use SmoothingFunction()\n",
      "  warnings.warn(_msg)\n",
      "c:\\Users\\foofo\\Desktop\\workspace\\fake_news_project\\venv\\lib\\site-packages\\nltk\\translate\\bleu_score.py:552: UserWarning: \n",
      "The hypothesis contains 0 counts of 3-gram overlaps.\n",
      "Therefore the BLEU score evaluates to 0, independently of\n",
      "how many N-gram overlaps of lower order it contains.\n",
      "Consider using lower n-gram order or use SmoothingFunction()\n",
      "  warnings.warn(_msg)\n",
      "c:\\Users\\foofo\\Desktop\\workspace\\fake_news_project\\venv\\lib\\site-packages\\nltk\\translate\\bleu_score.py:552: UserWarning: \n",
      "The hypothesis contains 0 counts of 4-gram overlaps.\n",
      "Therefore the BLEU score evaluates to 0, independently of\n",
      "how many N-gram overlaps of lower order it contains.\n",
      "Consider using lower n-gram order or use SmoothingFunction()\n",
      "  warnings.warn(_msg)\n"
     ]
    }
   ],
   "source": [
    "df_aug_2['bleu_score'] = df_aug_2.apply(lambda x: bleu_score(x.text, x.en_to_th), axis=1)"
   ]
  },
  {
   "cell_type": "code",
   "execution_count": 35,
   "metadata": {},
   "outputs": [
    {
     "data": {
      "text/html": [
       "<div>\n",
       "<style scoped>\n",
       "    .dataframe tbody tr th:only-of-type {\n",
       "        vertical-align: middle;\n",
       "    }\n",
       "\n",
       "    .dataframe tbody tr th {\n",
       "        vertical-align: top;\n",
       "    }\n",
       "\n",
       "    .dataframe thead th {\n",
       "        text-align: right;\n",
       "    }\n",
       "</style>\n",
       "<table border=\"1\" class=\"dataframe\">\n",
       "  <thead>\n",
       "    <tr style=\"text-align: right;\">\n",
       "      <th></th>\n",
       "      <th>text</th>\n",
       "      <th>label</th>\n",
       "      <th>th_to_en</th>\n",
       "      <th>en_to_th</th>\n",
       "      <th>sent_sim</th>\n",
       "      <th>bleu_score</th>\n",
       "    </tr>\n",
       "  </thead>\n",
       "  <tbody>\n",
       "    <tr>\n",
       "      <th>0</th>\n",
       "      <td>สธ.ประชุมด่วน!มาตรการรับมือไวรัสโคโรนาสายพันธุ...</td>\n",
       "      <td>0</td>\n",
       "      <td>The Ministry of Public Health urgently convene...</td>\n",
       "      <td>กระทรวงสาธารณสุขจัดประชุมอย่างเร่งด่วน! ไวรัส ...</td>\n",
       "      <td>0.908934</td>\n",
       "      <td>7.820913e-232</td>\n",
       "    </tr>\n",
       "    <tr>\n",
       "      <th>1</th>\n",
       "      <td>คุณทวดวัย104ปีเผยเคล็ดลับอายุยืนมีวันนี้ได้เพร...</td>\n",
       "      <td>1</td>\n",
       "      <td>104 -year -old, revealing a long -standing sec...</td>\n",
       "      <td>104 -ปี -เปิดเผยความลับที่ยาวนานในวันนี้เนื่อง...</td>\n",
       "      <td>0.694067</td>\n",
       "      <td>7.873431e-232</td>\n",
       "    </tr>\n",
       "    <tr>\n",
       "      <th>2</th>\n",
       "      <td>อย่าโยนทิ้ง!เปลือกมะนาวบรรเทาอาการปวดข้อให้หาย...</td>\n",
       "      <td>1</td>\n",
       "      <td>Do not throw away! Lemon shells can relieve jo...</td>\n",
       "      <td>อย่าทิ้ง! เปลือกมะนาวสามารถบรรเทาอาการปวดข้อ |...</td>\n",
       "      <td>0.944129</td>\n",
       "      <td>7.700283e-232</td>\n",
       "    </tr>\n",
       "    <tr>\n",
       "      <th>3</th>\n",
       "      <td>หิมะถล่มฝรั่งเศส!เร่งเคลียร์ถนนบนเทือกเขาหลังน...</td>\n",
       "      <td>0</td>\n",
       "      <td>French snow! Accelerates the roads on the moun...</td>\n",
       "      <td>หิมะฝรั่งเศส! เร่งถนนบนภูเขาหลังจากนักท่องเที่...</td>\n",
       "      <td>0.972445</td>\n",
       "      <td>5.344719e-232</td>\n",
       "    </tr>\n",
       "    <tr>\n",
       "      <th>4</th>\n",
       "      <td>ผู้เชี่ยวชาญชี้คนแห่ซื้อทิชชู่เพียงเพราะแตกตื่...</td>\n",
       "      <td>0</td>\n",
       "      <td>Specialist pointed out that people flocked to ...</td>\n",
       "      <td>ผู้เชี่ยวชาญชี้ให้เห็นว่าผู้คนแห่กันซื้อเนื้อเ...</td>\n",
       "      <td>0.865598</td>\n",
       "      <td>9.039353e-232</td>\n",
       "    </tr>\n",
       "    <tr>\n",
       "      <th>...</th>\n",
       "      <td>...</td>\n",
       "      <td>...</td>\n",
       "      <td>...</td>\n",
       "      <td>...</td>\n",
       "      <td>...</td>\n",
       "      <td>...</td>\n",
       "    </tr>\n",
       "    <tr>\n",
       "      <th>2358</th>\n",
       "      <td>5ขั้นตอนง่ายๆในการนวดหน้าอกอัพไซส์ให้ใหญ่ขึ้นด...</td>\n",
       "      <td>1</td>\n",
       "      <td>5 simple steps to massage the chest up size to...</td>\n",
       "      <td>5 ขั้นตอนง่ายๆในการนวดขนาดหน้าอกให้ใหญ่ขึ้นด้ว...</td>\n",
       "      <td>0.985011</td>\n",
       "      <td>7.911069e-232</td>\n",
       "    </tr>\n",
       "    <tr>\n",
       "      <th>2359</th>\n",
       "      <td>การแช่ผ้าไว้กับผงซักฟอกที่เข้มข้นพอควรแบบที่เร...</td>\n",
       "      <td>1</td>\n",
       "      <td>Soaking in the fabric with a very intense dete...</td>\n",
       "      <td>การแช่ในผ้าด้วยผงซักฟอกที่เข้มข้นมากที่เราเคยท...</td>\n",
       "      <td>0.929193</td>\n",
       "      <td>7.013160e-232</td>\n",
       "    </tr>\n",
       "    <tr>\n",
       "      <th>2360</th>\n",
       "      <td>เผยสูตรฟันขาว5เทคนิคที่จะทำให้ฟันของคุณกลับมาข...</td>\n",
       "      <td>1</td>\n",
       "      <td>Revealing the 5 white teeth formulas that will...</td>\n",
       "      <td>การเปิดเผยสูตรฟันขาว 5 สูตรที่จะทำให้ฟันของคุณ...</td>\n",
       "      <td>0.959154</td>\n",
       "      <td>6.823443e-232</td>\n",
       "    </tr>\n",
       "    <tr>\n",
       "      <th>2361</th>\n",
       "      <td>องค์การเภสัชฯเดินหน้าพัฒนา\"ยาฟาวิพิราเวียร์\"รั...</td>\n",
       "      <td>0</td>\n",
       "      <td>The Pharmaceutical Organization continues to d...</td>\n",
       "      <td>องค์กรเภสัชกรรมยังคงพัฒนา \"favidipravier\" เพื่...</td>\n",
       "      <td>0.884058</td>\n",
       "      <td>7.018501e-232</td>\n",
       "    </tr>\n",
       "    <tr>\n",
       "      <th>2362</th>\n",
       "      <td>ทานดีคอนแทคบ้าง</td>\n",
       "      <td>1</td>\n",
       "      <td>Eat some contacts</td>\n",
       "      <td>กินที่ติดต่อ</td>\n",
       "      <td>0.865159</td>\n",
       "      <td>0.000000e+00</td>\n",
       "    </tr>\n",
       "  </tbody>\n",
       "</table>\n",
       "<p>2363 rows × 6 columns</p>\n",
       "</div>"
      ],
      "text/plain": [
       "                                                   text  label  \\\n",
       "0     สธ.ประชุมด่วน!มาตรการรับมือไวรัสโคโรนาสายพันธุ...      0   \n",
       "1     คุณทวดวัย104ปีเผยเคล็ดลับอายุยืนมีวันนี้ได้เพร...      1   \n",
       "2     อย่าโยนทิ้ง!เปลือกมะนาวบรรเทาอาการปวดข้อให้หาย...      1   \n",
       "3     หิมะถล่มฝรั่งเศส!เร่งเคลียร์ถนนบนเทือกเขาหลังน...      0   \n",
       "4     ผู้เชี่ยวชาญชี้คนแห่ซื้อทิชชู่เพียงเพราะแตกตื่...      0   \n",
       "...                                                 ...    ...   \n",
       "2358  5ขั้นตอนง่ายๆในการนวดหน้าอกอัพไซส์ให้ใหญ่ขึ้นด...      1   \n",
       "2359  การแช่ผ้าไว้กับผงซักฟอกที่เข้มข้นพอควรแบบที่เร...      1   \n",
       "2360  เผยสูตรฟันขาว5เทคนิคที่จะทำให้ฟันของคุณกลับมาข...      1   \n",
       "2361  องค์การเภสัชฯเดินหน้าพัฒนา\"ยาฟาวิพิราเวียร์\"รั...      0   \n",
       "2362                                    ทานดีคอนแทคบ้าง      1   \n",
       "\n",
       "                                               th_to_en  \\\n",
       "0     The Ministry of Public Health urgently convene...   \n",
       "1     104 -year -old, revealing a long -standing sec...   \n",
       "2     Do not throw away! Lemon shells can relieve jo...   \n",
       "3     French snow! Accelerates the roads on the moun...   \n",
       "4     Specialist pointed out that people flocked to ...   \n",
       "...                                                 ...   \n",
       "2358  5 simple steps to massage the chest up size to...   \n",
       "2359  Soaking in the fabric with a very intense dete...   \n",
       "2360  Revealing the 5 white teeth formulas that will...   \n",
       "2361  The Pharmaceutical Organization continues to d...   \n",
       "2362                                  Eat some contacts   \n",
       "\n",
       "                                               en_to_th  sent_sim  \\\n",
       "0     กระทรวงสาธารณสุขจัดประชุมอย่างเร่งด่วน! ไวรัส ...  0.908934   \n",
       "1     104 -ปี -เปิดเผยความลับที่ยาวนานในวันนี้เนื่อง...  0.694067   \n",
       "2     อย่าทิ้ง! เปลือกมะนาวสามารถบรรเทาอาการปวดข้อ |...  0.944129   \n",
       "3     หิมะฝรั่งเศส! เร่งถนนบนภูเขาหลังจากนักท่องเที่...  0.972445   \n",
       "4     ผู้เชี่ยวชาญชี้ให้เห็นว่าผู้คนแห่กันซื้อเนื้อเ...  0.865598   \n",
       "...                                                 ...       ...   \n",
       "2358  5 ขั้นตอนง่ายๆในการนวดขนาดหน้าอกให้ใหญ่ขึ้นด้ว...  0.985011   \n",
       "2359  การแช่ในผ้าด้วยผงซักฟอกที่เข้มข้นมากที่เราเคยท...  0.929193   \n",
       "2360  การเปิดเผยสูตรฟันขาว 5 สูตรที่จะทำให้ฟันของคุณ...  0.959154   \n",
       "2361  องค์กรเภสัชกรรมยังคงพัฒนา \"favidipravier\" เพื่...  0.884058   \n",
       "2362                                       กินที่ติดต่อ  0.865159   \n",
       "\n",
       "         bleu_score  \n",
       "0     7.820913e-232  \n",
       "1     7.873431e-232  \n",
       "2     7.700283e-232  \n",
       "3     5.344719e-232  \n",
       "4     9.039353e-232  \n",
       "...             ...  \n",
       "2358  7.911069e-232  \n",
       "2359  7.013160e-232  \n",
       "2360  6.823443e-232  \n",
       "2361  7.018501e-232  \n",
       "2362   0.000000e+00  \n",
       "\n",
       "[2363 rows x 6 columns]"
      ]
     },
     "execution_count": 35,
     "metadata": {},
     "output_type": "execute_result"
    }
   ],
   "source": [
    "df_aug_2"
   ]
  },
  {
   "cell_type": "code",
   "execution_count": 44,
   "metadata": {},
   "outputs": [
    {
     "data": {
      "text/plain": [
       "<AxesSubplot: >"
      ]
     },
     "execution_count": 44,
     "metadata": {},
     "output_type": "execute_result"
    },
    {
     "data": {
      "image/png": "[encoded data removed]",
      "text/plain": [
       "<Figure size 2000x500 with 1 Axes>"
      ]
     },
     "metadata": {},
     "output_type": "display_data"
    }
   ],
   "source": [
    "df_aug_2.plot(y='bleu_score', figsize=(20, 5))"
   ]
  },
  {
   "cell_type": "code",
   "execution_count": 45,
   "metadata": {},
   "outputs": [],
   "source": [
    "filter_df_aug = df_aug_2.loc[(df_aug_2['sent_sim'] >= 0.8) & (df_aug_2['bleu_score'] > 0)]"
   ]
  },
  {
   "cell_type": "code",
   "execution_count": 47,
   "metadata": {},
   "outputs": [
    {
     "data": {
      "text/plain": [
       "text          1904\n",
       "label         1904\n",
       "th_to_en      1904\n",
       "en_to_th      1904\n",
       "sent_sim      1904\n",
       "bleu_score    1904\n",
       "dtype: int64"
      ]
     },
     "execution_count": 47,
     "metadata": {},
     "output_type": "execute_result"
    }
   ],
   "source": [
    "filter_df_aug.count()"
   ]
  },
  {
   "cell_type": "code",
   "execution_count": 57,
   "metadata": {},
   "outputs": [],
   "source": [
    "new_filter_df_aug = filter_df_aug.drop(columns=['text', 'th_to_en', 'sent_sim', 'bleu_score'])"
   ]
  },
  {
   "cell_type": "code",
   "execution_count": 58,
   "metadata": {},
   "outputs": [],
   "source": [
    "new_filter_df_aug.reset_index(inplace=True)"
   ]
  },
  {
   "cell_type": "code",
   "execution_count": 59,
   "metadata": {},
   "outputs": [],
   "source": [
    "new_filter_df_aug.drop(columns='index', inplace=True)"
   ]
  },
  {
   "cell_type": "code",
   "execution_count": 60,
   "metadata": {},
   "outputs": [],
   "source": [
    "new_filter_df_aug.rename(columns={\"en_to_th\": 'text'}, inplace=True)"
   ]
  },
  {
   "cell_type": "code",
   "execution_count": 61,
   "metadata": {},
   "outputs": [
    {
     "data": {
      "text/html": [
       "<div>\n",
       "<style scoped>\n",
       "    .dataframe tbody tr th:only-of-type {\n",
       "        vertical-align: middle;\n",
       "    }\n",
       "\n",
       "    .dataframe tbody tr th {\n",
       "        vertical-align: top;\n",
       "    }\n",
       "\n",
       "    .dataframe thead th {\n",
       "        text-align: right;\n",
       "    }\n",
       "</style>\n",
       "<table border=\"1\" class=\"dataframe\">\n",
       "  <thead>\n",
       "    <tr style=\"text-align: right;\">\n",
       "      <th></th>\n",
       "      <th>label</th>\n",
       "      <th>text</th>\n",
       "    </tr>\n",
       "  </thead>\n",
       "  <tbody>\n",
       "    <tr>\n",
       "      <th>0</th>\n",
       "      <td>0</td>\n",
       "      <td>กระทรวงสาธารณสุขจัดประชุมอย่างเร่งด่วน! ไวรัส ...</td>\n",
       "    </tr>\n",
       "    <tr>\n",
       "      <th>1</th>\n",
       "      <td>1</td>\n",
       "      <td>อย่าทิ้ง! เปลือกมะนาวสามารถบรรเทาอาการปวดข้อ |...</td>\n",
       "    </tr>\n",
       "    <tr>\n",
       "      <th>2</th>\n",
       "      <td>0</td>\n",
       "      <td>หิมะฝรั่งเศส! เร่งถนนบนภูเขาหลังจากนักท่องเที่...</td>\n",
       "    </tr>\n",
       "    <tr>\n",
       "      <th>3</th>\n",
       "      <td>0</td>\n",
       "      <td>ผู้เชี่ยวชาญชี้ให้เห็นว่าผู้คนแห่กันซื้อเนื้อเ...</td>\n",
       "    </tr>\n",
       "    <tr>\n",
       "      <th>4</th>\n",
       "      <td>1</td>\n",
       "      <td>พบโครงกระดูกเก่าที่ถ้ำใต้น้ำ เม็กซิโกมีอายุมาก...</td>\n",
       "    </tr>\n",
       "    <tr>\n",
       "      <th>...</th>\n",
       "      <td>...</td>\n",
       "      <td>...</td>\n",
       "    </tr>\n",
       "    <tr>\n",
       "      <th>1899</th>\n",
       "      <td>0</td>\n",
       "      <td>ต้องเรียนรู้ที่จะกิน! เม็ดมะม่วงหิมพานต์กินกิน...</td>\n",
       "    </tr>\n",
       "    <tr>\n",
       "      <th>1900</th>\n",
       "      <td>1</td>\n",
       "      <td>5 ขั้นตอนง่ายๆในการนวดขนาดหน้าอกให้ใหญ่ขึ้นด้ว...</td>\n",
       "    </tr>\n",
       "    <tr>\n",
       "      <th>1901</th>\n",
       "      <td>1</td>\n",
       "      <td>การแช่ในผ้าด้วยผงซักฟอกที่เข้มข้นมากที่เราเคยท...</td>\n",
       "    </tr>\n",
       "    <tr>\n",
       "      <th>1902</th>\n",
       "      <td>1</td>\n",
       "      <td>การเปิดเผยสูตรฟันขาว 5 สูตรที่จะทำให้ฟันของคุณ...</td>\n",
       "    </tr>\n",
       "    <tr>\n",
       "      <th>1903</th>\n",
       "      <td>0</td>\n",
       "      <td>องค์กรเภสัชกรรมยังคงพัฒนา \"favidipravier\" เพื่...</td>\n",
       "    </tr>\n",
       "  </tbody>\n",
       "</table>\n",
       "<p>1904 rows × 2 columns</p>\n",
       "</div>"
      ],
      "text/plain": [
       "      label                                               text\n",
       "0         0  กระทรวงสาธารณสุขจัดประชุมอย่างเร่งด่วน! ไวรัส ...\n",
       "1         1  อย่าทิ้ง! เปลือกมะนาวสามารถบรรเทาอาการปวดข้อ |...\n",
       "2         0  หิมะฝรั่งเศส! เร่งถนนบนภูเขาหลังจากนักท่องเที่...\n",
       "3         0  ผู้เชี่ยวชาญชี้ให้เห็นว่าผู้คนแห่กันซื้อเนื้อเ...\n",
       "4         1  พบโครงกระดูกเก่าที่ถ้ำใต้น้ำ เม็กซิโกมีอายุมาก...\n",
       "...     ...                                                ...\n",
       "1899      0  ต้องเรียนรู้ที่จะกิน! เม็ดมะม่วงหิมพานต์กินกิน...\n",
       "1900      1  5 ขั้นตอนง่ายๆในการนวดขนาดหน้าอกให้ใหญ่ขึ้นด้ว...\n",
       "1901      1  การแช่ในผ้าด้วยผงซักฟอกที่เข้มข้นมากที่เราเคยท...\n",
       "1902      1  การเปิดเผยสูตรฟันขาว 5 สูตรที่จะทำให้ฟันของคุณ...\n",
       "1903      0  องค์กรเภสัชกรรมยังคงพัฒนา \"favidipravier\" เพื่...\n",
       "\n",
       "[1904 rows x 2 columns]"
      ]
     },
     "execution_count": 61,
     "metadata": {},
     "output_type": "execute_result"
    }
   ],
   "source": [
    "new_filter_df_aug"
   ]
  },
  {
   "cell_type": "code",
   "execution_count": 62,
   "metadata": {},
   "outputs": [],
   "source": [
    "new_filter_df_aug.to_csv('./train_augment_data.csv')"
   ]
  },
  {
   "cell_type": "code",
   "execution_count": 9,
   "metadata": {},
   "outputs": [],
   "source": [
    "df3 = pd.read_csv('./train_augment_data.csv')"
   ]
  },
  {
   "cell_type": "code",
   "execution_count": 10,
   "metadata": {},
   "outputs": [
    {
     "data": {
      "text/html": [
       "<div>\n",
       "<style scoped>\n",
       "    .dataframe tbody tr th:only-of-type {\n",
       "        vertical-align: middle;\n",
       "    }\n",
       "\n",
       "    .dataframe tbody tr th {\n",
       "        vertical-align: top;\n",
       "    }\n",
       "\n",
       "    .dataframe thead th {\n",
       "        text-align: right;\n",
       "    }\n",
       "</style>\n",
       "<table border=\"1\" class=\"dataframe\">\n",
       "  <thead>\n",
       "    <tr style=\"text-align: right;\">\n",
       "      <th></th>\n",
       "      <th>label</th>\n",
       "      <th>text</th>\n",
       "    </tr>\n",
       "  </thead>\n",
       "  <tbody>\n",
       "    <tr>\n",
       "      <th>0</th>\n",
       "      <td>0</td>\n",
       "      <td>กระทรวงสาธารณสุขจัดประชุมอย่างเร่งด่วน! ไวรัส ...</td>\n",
       "    </tr>\n",
       "    <tr>\n",
       "      <th>1</th>\n",
       "      <td>1</td>\n",
       "      <td>อย่าทิ้ง! เปลือกมะนาวสามารถบรรเทาอาการปวดข้อ |...</td>\n",
       "    </tr>\n",
       "    <tr>\n",
       "      <th>2</th>\n",
       "      <td>0</td>\n",
       "      <td>หิมะฝรั่งเศส! เร่งถนนบนภูเขาหลังจากนักท่องเที่...</td>\n",
       "    </tr>\n",
       "    <tr>\n",
       "      <th>3</th>\n",
       "      <td>0</td>\n",
       "      <td>ผู้เชี่ยวชาญชี้ให้เห็นว่าผู้คนแห่กันซื้อเนื้อเ...</td>\n",
       "    </tr>\n",
       "    <tr>\n",
       "      <th>4</th>\n",
       "      <td>1</td>\n",
       "      <td>พบโครงกระดูกเก่าที่ถ้ำใต้น้ำ เม็กซิโกมีอายุมาก...</td>\n",
       "    </tr>\n",
       "    <tr>\n",
       "      <th>...</th>\n",
       "      <td>...</td>\n",
       "      <td>...</td>\n",
       "    </tr>\n",
       "    <tr>\n",
       "      <th>1899</th>\n",
       "      <td>0</td>\n",
       "      <td>ต้องเรียนรู้ที่จะกิน! เม็ดมะม่วงหิมพานต์กินกิน...</td>\n",
       "    </tr>\n",
       "    <tr>\n",
       "      <th>1900</th>\n",
       "      <td>1</td>\n",
       "      <td>5 ขั้นตอนง่ายๆในการนวดขนาดหน้าอกให้ใหญ่ขึ้นด้ว...</td>\n",
       "    </tr>\n",
       "    <tr>\n",
       "      <th>1901</th>\n",
       "      <td>1</td>\n",
       "      <td>การแช่ในผ้าด้วยผงซักฟอกที่เข้มข้นมากที่เราเคยท...</td>\n",
       "    </tr>\n",
       "    <tr>\n",
       "      <th>1902</th>\n",
       "      <td>1</td>\n",
       "      <td>การเปิดเผยสูตรฟันขาว 5 สูตรที่จะทำให้ฟันของคุณ...</td>\n",
       "    </tr>\n",
       "    <tr>\n",
       "      <th>1903</th>\n",
       "      <td>0</td>\n",
       "      <td>องค์กรเภสัชกรรมยังคงพัฒนา \"favidipravier\" เพื่...</td>\n",
       "    </tr>\n",
       "  </tbody>\n",
       "</table>\n",
       "<p>1904 rows × 2 columns</p>\n",
       "</div>"
      ],
      "text/plain": [
       "      label                                               text\n",
       "0         0  กระทรวงสาธารณสุขจัดประชุมอย่างเร่งด่วน! ไวรัส ...\n",
       "1         1  อย่าทิ้ง! เปลือกมะนาวสามารถบรรเทาอาการปวดข้อ |...\n",
       "2         0  หิมะฝรั่งเศส! เร่งถนนบนภูเขาหลังจากนักท่องเที่...\n",
       "3         0  ผู้เชี่ยวชาญชี้ให้เห็นว่าผู้คนแห่กันซื้อเนื้อเ...\n",
       "4         1  พบโครงกระดูกเก่าที่ถ้ำใต้น้ำ เม็กซิโกมีอายุมาก...\n",
       "...     ...                                                ...\n",
       "1899      0  ต้องเรียนรู้ที่จะกิน! เม็ดมะม่วงหิมพานต์กินกิน...\n",
       "1900      1  5 ขั้นตอนง่ายๆในการนวดขนาดหน้าอกให้ใหญ่ขึ้นด้ว...\n",
       "1901      1  การแช่ในผ้าด้วยผงซักฟอกที่เข้มข้นมากที่เราเคยท...\n",
       "1902      1  การเปิดเผยสูตรฟันขาว 5 สูตรที่จะทำให้ฟันของคุณ...\n",
       "1903      0  องค์กรเภสัชกรรมยังคงพัฒนา \"favidipravier\" เพื่...\n",
       "\n",
       "[1904 rows x 2 columns]"
      ]
     },
     "execution_count": 10,
     "metadata": {},
     "output_type": "execute_result"
    }
   ],
   "source": [
    "df3"
   ]
  },
  {
   "cell_type": "code",
   "execution_count": 18,
   "metadata": {},
   "outputs": [
    {
     "data": {
      "text/html": [
       "<div>\n",
       "<style scoped>\n",
       "    .dataframe tbody tr th:only-of-type {\n",
       "        vertical-align: middle;\n",
       "    }\n",
       "\n",
       "    .dataframe tbody tr th {\n",
       "        vertical-align: top;\n",
       "    }\n",
       "\n",
       "    .dataframe thead th {\n",
       "        text-align: right;\n",
       "    }\n",
       "</style>\n",
       "<table border=\"1\" class=\"dataframe\">\n",
       "  <thead>\n",
       "    <tr style=\"text-align: right;\">\n",
       "      <th></th>\n",
       "      <th>text</th>\n",
       "      <th>label</th>\n",
       "    </tr>\n",
       "  </thead>\n",
       "  <tbody>\n",
       "    <tr>\n",
       "      <th>0</th>\n",
       "      <td>ไก่ลุงเคนกินแล้วมีแต่สารเร่งโต</td>\n",
       "      <td>1</td>\n",
       "    </tr>\n",
       "    <tr>\n",
       "      <th>1</th>\n",
       "      <td>เครื่องดื่มต้านCovid-19ค่าพีเอชคือความเป็นด่าง...</td>\n",
       "      <td>1</td>\n",
       "    </tr>\n",
       "    <tr>\n",
       "      <th>2</th>\n",
       "      <td>แค่ฟังชื่อก็ขนลุก!\"ต้นป่าช้าเหงา\"สมุนไพรชั้นดี...</td>\n",
       "      <td>1</td>\n",
       "    </tr>\n",
       "    <tr>\n",
       "      <th>3</th>\n",
       "      <td>พิชัย'แนะ'ประยุทธ์'เพิ่มเซลล์สมองแก้ปัญหาเศรษฐ...</td>\n",
       "      <td>0</td>\n",
       "    </tr>\n",
       "    <tr>\n",
       "      <th>4</th>\n",
       "      <td>อุจจาระตกค้างเรื่องใหญ่!แจกสูตรดีท็อกซ์ล้างลำไ...</td>\n",
       "      <td>1</td>\n",
       "    </tr>\n",
       "    <tr>\n",
       "      <th>...</th>\n",
       "      <td>...</td>\n",
       "      <td>...</td>\n",
       "    </tr>\n",
       "    <tr>\n",
       "      <th>2358</th>\n",
       "      <td>เดี๋ยวนี้มีใบทุเรียนน้ำแกโรคมะเร็งหายขาดจ้า</td>\n",
       "      <td>1</td>\n",
       "    </tr>\n",
       "    <tr>\n",
       "      <th>2359</th>\n",
       "      <td>อาหาร8ประเภทที่ไม่ควรนำไปอุ่นซ้ำอีกรอบ|||จะต้อ...</td>\n",
       "      <td>1</td>\n",
       "    </tr>\n",
       "    <tr>\n",
       "      <th>2360</th>\n",
       "      <td>เภสัชเผยยากลุ่มNSAIDsห้ามกินร่วมกันเสี่ยงอันตร...</td>\n",
       "      <td>0</td>\n",
       "    </tr>\n",
       "    <tr>\n",
       "      <th>2361</th>\n",
       "      <td>สบส.ฟันธง!!วัยทำงานเกือบครึ่งอนาคตเสี่ยงโรคเรื...</td>\n",
       "      <td>0</td>\n",
       "    </tr>\n",
       "    <tr>\n",
       "      <th>2362</th>\n",
       "      <td>เชื่อศักดิ์สิทธิ์!ชาวบุรีรัมย์แห่นำน้ำในบ่อขุด...</td>\n",
       "      <td>1</td>\n",
       "    </tr>\n",
       "  </tbody>\n",
       "</table>\n",
       "<p>2363 rows × 2 columns</p>\n",
       "</div>"
      ],
      "text/plain": [
       "                                                   text  label\n",
       "0                        ไก่ลุงเคนกินแล้วมีแต่สารเร่งโต      1\n",
       "1     เครื่องดื่มต้านCovid-19ค่าพีเอชคือความเป็นด่าง...      1\n",
       "2     แค่ฟังชื่อก็ขนลุก!\"ต้นป่าช้าเหงา\"สมุนไพรชั้นดี...      1\n",
       "3     พิชัย'แนะ'ประยุทธ์'เพิ่มเซลล์สมองแก้ปัญหาเศรษฐ...      0\n",
       "4     อุจจาระตกค้างเรื่องใหญ่!แจกสูตรดีท็อกซ์ล้างลำไ...      1\n",
       "...                                                 ...    ...\n",
       "2358        เดี๋ยวนี้มีใบทุเรียนน้ำแกโรคมะเร็งหายขาดจ้า      1\n",
       "2359  อาหาร8ประเภทที่ไม่ควรนำไปอุ่นซ้ำอีกรอบ|||จะต้อ...      1\n",
       "2360  เภสัชเผยยากลุ่มNSAIDsห้ามกินร่วมกันเสี่ยงอันตร...      0\n",
       "2361  สบส.ฟันธง!!วัยทำงานเกือบครึ่งอนาคตเสี่ยงโรคเรื...      0\n",
       "2362  เชื่อศักดิ์สิทธิ์!ชาวบุรีรัมย์แห่นำน้ำในบ่อขุด...      1\n",
       "\n",
       "[2363 rows x 2 columns]"
      ]
     },
     "execution_count": 18,
     "metadata": {},
     "output_type": "execute_result"
    }
   ],
   "source": [
    "train_df"
   ]
  },
  {
   "cell_type": "code",
   "execution_count": 12,
   "metadata": {},
   "outputs": [],
   "source": [
    "train_df_with_aug = pd.concat([train_df, df3])"
   ]
  },
  {
   "cell_type": "code",
   "execution_count": 20,
   "metadata": {},
   "outputs": [],
   "source": [
    "train_df_with_aug.to_csv('./train_data_fake_news_with_aug.csv', index=False)"
   ]
  },
  {
   "cell_type": "code",
   "execution_count": 21,
   "metadata": {},
   "outputs": [],
   "source": [
    "train_df_with_aug = pd.read_csv('./train_data_fake_news_with_aug.csv')"
   ]
  },
  {
   "cell_type": "code",
   "execution_count": 24,
   "metadata": {},
   "outputs": [
    {
     "data": {
      "text/plain": [
       "<AxesSubplot: ylabel='Frequency'>"
      ]
     },
     "execution_count": 24,
     "metadata": {},
     "output_type": "execute_result"
    },
    {
     "data": {
      "image/png": "[encoded data removed]",
      "text/plain": [
       "<Figure size 640x480 with 1 Axes>"
      ]
     },
     "metadata": {},
     "output_type": "display_data"
    }
   ],
   "source": [
    "train_df_with_aug.plot.hist()"
   ]
  }
 ],
 "metadata": {
  "kernelspec": {
   "display_name": "venv",
   "language": "python",
   "name": "python3"
  },
  "language_info": {
   "codemirror_mode": {
    "name": "ipython",
    "version": 3
   },
   "file_extension": ".py",
   "mimetype": "text/x-python",
   "name": "python",
   "nbconvert_exporter": "python",
   "pygments_lexer": "ipython3",
   "version": "3.10.5"
  },
  "orig_nbformat": 4,
  "vscode": {
   "interpreter": {
    "hash": "b5611d40d9a35cece57bb11b4fe7cfb894178ef53f2345e73f0f231f12336cee"
   }
  }
 },
 "nbformat": 4,
 "nbformat_minor": 2
}
