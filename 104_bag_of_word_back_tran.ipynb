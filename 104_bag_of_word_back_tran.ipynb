{
 "cells": [
  {
   "cell_type": "code",
   "execution_count": 1,
   "metadata": {},
   "outputs": [],
   "source": [
    "import pandas as pd\n",
    "from sklearn.feature_extraction.text import TfidfVectorizer\n",
    "from sklearn.neighbors import KNeighborsClassifier\n",
    "from sklearn.linear_model import LogisticRegression\n",
    "from sklearn.naive_bayes import GaussianNB\n",
    "from sklearn.svm import SVC\n",
    "from sklearn.ensemble import RandomForestClassifier\n",
    "from sklearn.model_selection import GridSearchCV, RandomizedSearchCV\n",
    "from sklearn.metrics import classification_report\n",
    "import unicodedata\n",
    "import pythainlp\n",
    "import re\n",
    "import emoji"
   ]
  },
  {
   "cell_type": "code",
   "execution_count": 2,
   "metadata": {},
   "outputs": [],
   "source": [
    "def normalize_double_quote(text: str):\n",
    "    all_quote = [\n",
    "    '“', # U+201c\n",
    "    '”', # U+201d\n",
    "    \"„\", # U+201e\n",
    "    '«', # U+00AB\n",
    "    '»', # U+00BB\n",
    "    '„', # U+201E\n",
    "    '“', # U+201C\n",
    "    '‟', # U+201F\n",
    "    '”', # U+201D\n",
    "    '❝', # U+275D\n",
    "    '❞', # U+275E\n",
    "    '〝', # U+301D\n",
    "    '〞', # U+301E\n",
    "    '〟', # U+301F\n",
    "    '＂', # U+FF02\n",
    "    ]\n",
    "    std_quote = \"\\\"\" #U+0022\n",
    "    table = str.maketrans(dict.fromkeys(all_quote, std_quote))\n",
    "    return text.translate(table)\n",
    "\n",
    "def normalize_single_quote(text: str):\n",
    "    all_quote = ['\\u02BB', '\\u02BC', '\\u066C', '\\u2018', '\\u2019', '\\u201A', '\\u275B', '\\u275C']\n",
    "    std_quote = \"\\'\"\n",
    "    table = str.maketrans(dict.fromkeys(all_quote, std_quote))\n",
    "    return text.translate(table)\n",
    "\n",
    "def replace_url(text):\n",
    "    URL_PATTERN = r\"\"\"(?i)\\b((?:https?:(?:/{1,3}|[a-z0-9%])|[a-z0-9.\\-]+[.](?:com|net|org|edu|gov|mil|aero|asia|biz|cat|coop|info|int|jobs|mobi|museum|name|post|pro|tel|travel|xxx|ac|ad|ae|af|ag|ai|al|am|an|ao|aq|ar|as|at|au|aw|ax|az|ba|bb|bd|be|bf|bg|bh|bi|bj|bm|bn|bo|br|bs|bt|bv|bw|by|bz|ca|cc|cd|cf|cg|ch|ci|ck|cl|cm|cn|co|cr|cs|cu|cv|cx|cy|cz|dd|de|dj|dk|dm|do|dz|ec|ee|eg|eh|er|es|et|eu|fi|fj|fk|fm|fo|fr|ga|gb|gd|ge|gf|gg|gh|gi|gl|gm|gn|gp|gq|gr|gs|gt|gu|gw|gy|hk|hm|hn|hr|ht|hu|id|ie|il|im|in|io|iq|ir|is|it|je|jm|jo|jp|ke|kg|kh|ki|km|kn|kp|kr|kw|ky|kz|la|lb|lc|li|lk|lr|ls|lt|lu|lv|ly|ma|mc|md|me|mg|mh|mk|ml|mm|mn|mo|mp|mq|mr|ms|mt|mu|mv|mw|mx|my|mz|na|nc|ne|nf|ng|ni|nl|no|np|nr|nu|nz|om|pa|pe|pf|pg|ph|pk|pl|pm|pn|pr|ps|pt|pw|py|qa|re|ro|rs|ru|rw|sa|sb|sc|sd|se|sg|sh|si|sj|Ja|sk|sl|sm|sn|so|sr|ss|st|su|sv|sx|sy|sz|tc|td|tf|tg|th|tj|tk|tl|tm|tn|to|tp|tr|tt|tv|tw|tz|ua|ug|uk|us|uy|uz|va|vc|ve|vg|vi|vn|vu|wf|ws|ye|yt|yu|za|zm|zw)/)(?:[^\\s()<>{}\n",
    "]+|\n",
    "[^\\s()]*?\\)|\n",
    ")+(?:\n",
    "[^\\s()]*?\\)|\n",
    "|[^\\s`!()\n",
    "{};:'\".,<>?«»“”‘’])|(?:(?<!@)[a-z0-9]+(?:[.\\-][a-z0-9]+)*[.](?:com|net|org|edu|gov|mil|aero|asia|biz|cat|coop|info|int|jobs|mobi|museum|name|post|pro|tel|travel|xxx|ac|ad|ae|af|ag|ai|al|am|an|ao|aq|ar|as|at|au|aw|ax|az|ba|bb|bd|be|bf|bg|bh|bi|bj|bm|bn|bo|br|bs|bt|bv|bw|by|bz|ca|cc|cd|cf|cg|ch|ci|ck|cl|cm|cn|co|cr|cs|cu|cv|cx|cy|cz|dd|de|dj|dk|dm|do|dz|ec|ee|eg|eh|er|es|et|eu|fi|fj|fk|fm|fo|fr|ga|gb|gd|ge|gf|gg|gh|gi|gl|gm|gn|gp|gq|gr|gs|gt|gu|gw|gy|hk|hm|hn|hr|ht|hu|id|ie|il|im|in|io|iq|ir|is|it|je|jm|jo|jp|ke|kg|kh|ki|km|kn|kp|kr|kw|ky|kz|la|lb|lc|li|lk|lr|ls|lt|lu|lv|ly|ma|mc|md|me|mg|mh|mk|ml|mm|mn|mo|mp|mq|mr|ms|mt|mu|mv|mw|mx|my|mz|na|nc|ne|nf|ng|ni|nl|no|np|nr|nu|nz|om|pa|pe|pf|pg|ph|pk|pl|pm|pn|pr|ps|pt|pw|py|qa|re|ro|rs|ru|rw|sa|sb|sc|sd|se|sg|sh|si|sj|Ja|sk|sl|sm|sn|so|sr|ss|st|su|sv|sx|sy|sz|tc|td|tf|tg|th|tj|tk|tl|tm|tn|to|tp|tr|tt|tv|tw|tz|ua|ug|uk|us|uy|uz|va|vc|ve|vg|vi|vn|vu|wf|ws|ye|yt|yu|za|zm|zw)\\b/?(?!@)))\"\"\"\n",
    "    return re.sub(URL_PATTERN, 'xxurl', text)\n",
    "\n",
    "def replace_rep(text):\n",
    "    def _replace_rep(m):\n",
    "        c,cc = m.groups()\n",
    "        return f'{c}xxrep'\n",
    "    re_rep = re.compile(r'(\\S)(\\1{2,})')\n",
    "    return re_rep.sub(_replace_rep, text)\n",
    "\n",
    "def ungroup_emoji(toks):\n",
    "    res = []\n",
    "    for tok in toks:\n",
    "        if emoji.emoji_count(tok) == len(tok):\n",
    "            for char in tok:\n",
    "                res.append(char)\n",
    "        else:\n",
    "            res.append(tok)\n",
    "    return res\n",
    "\n",
    "def preprocess_func(text):\n",
    "    new_text = unicodedata.normalize('NFKD', text)\n",
    "    new_text = pythainlp.util.normalize(new_text)\n",
    "    new_text = normalize_double_quote(new_text)\n",
    "    new_text = normalize_single_quote(new_text)\n",
    "\n",
    "    new_text = new_text.lower().strip()\n",
    "    new_text = replace_url(new_text)\n",
    "    new_text = replace_rep(new_text)\n",
    "\n",
    "    res = [word for word in pythainlp.word_tokenize(new_text) if word and not re.search(pattern=r\"\\s+\", string=word)]\n",
    "\n",
    "    res = ungroup_emoji(res)\n",
    "    return res"
   ]
  },
  {
   "cell_type": "code",
   "execution_count": 3,
   "metadata": {},
   "outputs": [],
   "source": [
    "train_df = pd.read_csv('./train_data_fake_news.csv')\n",
    "train_back_df = pd.read_csv('./train_augment_data.csv')\n",
    "val_df = pd.read_csv('./valid_data_fake_news.csv')\n",
    "test_df = pd.read_csv('./test_data_fake_news.csv')"
   ]
  },
  {
   "cell_type": "code",
   "execution_count": 4,
   "metadata": {},
   "outputs": [
    {
     "data": {
      "text/html": [
       "<div>\n",
       "<style scoped>\n",
       "    .dataframe tbody tr th:only-of-type {\n",
       "        vertical-align: middle;\n",
       "    }\n",
       "\n",
       "    .dataframe tbody tr th {\n",
       "        vertical-align: top;\n",
       "    }\n",
       "\n",
       "    .dataframe thead th {\n",
       "        text-align: right;\n",
       "    }\n",
       "</style>\n",
       "<table border=\"1\" class=\"dataframe\">\n",
       "  <thead>\n",
       "    <tr style=\"text-align: right;\">\n",
       "      <th></th>\n",
       "      <th>label</th>\n",
       "      <th>text</th>\n",
       "    </tr>\n",
       "  </thead>\n",
       "  <tbody>\n",
       "    <tr>\n",
       "      <th>0</th>\n",
       "      <td>0</td>\n",
       "      <td>กระทรวงสาธารณสุขจัดประชุมอย่างเร่งด่วน! ไวรัส ...</td>\n",
       "    </tr>\n",
       "    <tr>\n",
       "      <th>1</th>\n",
       "      <td>1</td>\n",
       "      <td>อย่าทิ้ง! เปลือกมะนาวสามารถบรรเทาอาการปวดข้อ |...</td>\n",
       "    </tr>\n",
       "    <tr>\n",
       "      <th>2</th>\n",
       "      <td>0</td>\n",
       "      <td>หิมะฝรั่งเศส! เร่งถนนบนภูเขาหลังจากนักท่องเที่...</td>\n",
       "    </tr>\n",
       "    <tr>\n",
       "      <th>3</th>\n",
       "      <td>0</td>\n",
       "      <td>ผู้เชี่ยวชาญชี้ให้เห็นว่าผู้คนแห่กันซื้อเนื้อเ...</td>\n",
       "    </tr>\n",
       "    <tr>\n",
       "      <th>4</th>\n",
       "      <td>1</td>\n",
       "      <td>พบโครงกระดูกเก่าที่ถ้ำใต้น้ำ เม็กซิโกมีอายุมาก...</td>\n",
       "    </tr>\n",
       "    <tr>\n",
       "      <th>...</th>\n",
       "      <td>...</td>\n",
       "      <td>...</td>\n",
       "    </tr>\n",
       "    <tr>\n",
       "      <th>1899</th>\n",
       "      <td>0</td>\n",
       "      <td>ต้องเรียนรู้ที่จะกิน! เม็ดมะม่วงหิมพานต์กินกิน...</td>\n",
       "    </tr>\n",
       "    <tr>\n",
       "      <th>1900</th>\n",
       "      <td>1</td>\n",
       "      <td>5 ขั้นตอนง่ายๆในการนวดขนาดหน้าอกให้ใหญ่ขึ้นด้ว...</td>\n",
       "    </tr>\n",
       "    <tr>\n",
       "      <th>1901</th>\n",
       "      <td>1</td>\n",
       "      <td>การแช่ในผ้าด้วยผงซักฟอกที่เข้มข้นมากที่เราเคยท...</td>\n",
       "    </tr>\n",
       "    <tr>\n",
       "      <th>1902</th>\n",
       "      <td>1</td>\n",
       "      <td>การเปิดเผยสูตรฟันขาว 5 สูตรที่จะทำให้ฟันของคุณ...</td>\n",
       "    </tr>\n",
       "    <tr>\n",
       "      <th>1903</th>\n",
       "      <td>0</td>\n",
       "      <td>องค์กรเภสัชกรรมยังคงพัฒนา \"favidipravier\" เพื่...</td>\n",
       "    </tr>\n",
       "  </tbody>\n",
       "</table>\n",
       "<p>1904 rows × 2 columns</p>\n",
       "</div>"
      ],
      "text/plain": [
       "      label                                               text\n",
       "0         0  กระทรวงสาธารณสุขจัดประชุมอย่างเร่งด่วน! ไวรัส ...\n",
       "1         1  อย่าทิ้ง! เปลือกมะนาวสามารถบรรเทาอาการปวดข้อ |...\n",
       "2         0  หิมะฝรั่งเศส! เร่งถนนบนภูเขาหลังจากนักท่องเที่...\n",
       "3         0  ผู้เชี่ยวชาญชี้ให้เห็นว่าผู้คนแห่กันซื้อเนื้อเ...\n",
       "4         1  พบโครงกระดูกเก่าที่ถ้ำใต้น้ำ เม็กซิโกมีอายุมาก...\n",
       "...     ...                                                ...\n",
       "1899      0  ต้องเรียนรู้ที่จะกิน! เม็ดมะม่วงหิมพานต์กินกิน...\n",
       "1900      1  5 ขั้นตอนง่ายๆในการนวดขนาดหน้าอกให้ใหญ่ขึ้นด้ว...\n",
       "1901      1  การแช่ในผ้าด้วยผงซักฟอกที่เข้มข้นมากที่เราเคยท...\n",
       "1902      1  การเปิดเผยสูตรฟันขาว 5 สูตรที่จะทำให้ฟันของคุณ...\n",
       "1903      0  องค์กรเภสัชกรรมยังคงพัฒนา \"favidipravier\" เพื่...\n",
       "\n",
       "[1904 rows x 2 columns]"
      ]
     },
     "execution_count": 4,
     "metadata": {},
     "output_type": "execute_result"
    }
   ],
   "source": [
    "train_back_df"
   ]
  },
  {
   "cell_type": "code",
   "execution_count": 5,
   "metadata": {},
   "outputs": [],
   "source": [
    "train_val_df = pd.concat([train_df, val_df, train_back_df]).reset_index().drop(columns='index')"
   ]
  },
  {
   "cell_type": "code",
   "execution_count": 6,
   "metadata": {},
   "outputs": [
    {
     "data": {
      "text/html": [
       "<div>\n",
       "<style scoped>\n",
       "    .dataframe tbody tr th:only-of-type {\n",
       "        vertical-align: middle;\n",
       "    }\n",
       "\n",
       "    .dataframe tbody tr th {\n",
       "        vertical-align: top;\n",
       "    }\n",
       "\n",
       "    .dataframe thead th {\n",
       "        text-align: right;\n",
       "    }\n",
       "</style>\n",
       "<table border=\"1\" class=\"dataframe\">\n",
       "  <thead>\n",
       "    <tr style=\"text-align: right;\">\n",
       "      <th></th>\n",
       "      <th>text</th>\n",
       "      <th>label</th>\n",
       "    </tr>\n",
       "  </thead>\n",
       "  <tbody>\n",
       "    <tr>\n",
       "      <th>0</th>\n",
       "      <td>ไก่ลุงเคนกินแล้วมีแต่สารเร่งโต</td>\n",
       "      <td>1</td>\n",
       "    </tr>\n",
       "    <tr>\n",
       "      <th>1</th>\n",
       "      <td>เครื่องดื่มต้านCovid-19ค่าพีเอชคือความเป็นด่าง...</td>\n",
       "      <td>1</td>\n",
       "    </tr>\n",
       "    <tr>\n",
       "      <th>2</th>\n",
       "      <td>แค่ฟังชื่อก็ขนลุก!\"ต้นป่าช้าเหงา\"สมุนไพรชั้นดี...</td>\n",
       "      <td>1</td>\n",
       "    </tr>\n",
       "    <tr>\n",
       "      <th>3</th>\n",
       "      <td>พิชัย'แนะ'ประยุทธ์'เพิ่มเซลล์สมองแก้ปัญหาเศรษฐ...</td>\n",
       "      <td>0</td>\n",
       "    </tr>\n",
       "    <tr>\n",
       "      <th>4</th>\n",
       "      <td>อุจจาระตกค้างเรื่องใหญ่!แจกสูตรดีท็อกซ์ล้างลำไ...</td>\n",
       "      <td>1</td>\n",
       "    </tr>\n",
       "    <tr>\n",
       "      <th>...</th>\n",
       "      <td>...</td>\n",
       "      <td>...</td>\n",
       "    </tr>\n",
       "    <tr>\n",
       "      <th>4768</th>\n",
       "      <td>ต้องเรียนรู้ที่จะกิน! เม็ดมะม่วงหิมพานต์กินกิน...</td>\n",
       "      <td>0</td>\n",
       "    </tr>\n",
       "    <tr>\n",
       "      <th>4769</th>\n",
       "      <td>5 ขั้นตอนง่ายๆในการนวดขนาดหน้าอกให้ใหญ่ขึ้นด้ว...</td>\n",
       "      <td>1</td>\n",
       "    </tr>\n",
       "    <tr>\n",
       "      <th>4770</th>\n",
       "      <td>การแช่ในผ้าด้วยผงซักฟอกที่เข้มข้นมากที่เราเคยท...</td>\n",
       "      <td>1</td>\n",
       "    </tr>\n",
       "    <tr>\n",
       "      <th>4771</th>\n",
       "      <td>การเปิดเผยสูตรฟันขาว 5 สูตรที่จะทำให้ฟันของคุณ...</td>\n",
       "      <td>1</td>\n",
       "    </tr>\n",
       "    <tr>\n",
       "      <th>4772</th>\n",
       "      <td>องค์กรเภสัชกรรมยังคงพัฒนา \"favidipravier\" เพื่...</td>\n",
       "      <td>0</td>\n",
       "    </tr>\n",
       "  </tbody>\n",
       "</table>\n",
       "<p>4773 rows × 2 columns</p>\n",
       "</div>"
      ],
      "text/plain": [
       "                                                   text  label\n",
       "0                        ไก่ลุงเคนกินแล้วมีแต่สารเร่งโต      1\n",
       "1     เครื่องดื่มต้านCovid-19ค่าพีเอชคือความเป็นด่าง...      1\n",
       "2     แค่ฟังชื่อก็ขนลุก!\"ต้นป่าช้าเหงา\"สมุนไพรชั้นดี...      1\n",
       "3     พิชัย'แนะ'ประยุทธ์'เพิ่มเซลล์สมองแก้ปัญหาเศรษฐ...      0\n",
       "4     อุจจาระตกค้างเรื่องใหญ่!แจกสูตรดีท็อกซ์ล้างลำไ...      1\n",
       "...                                                 ...    ...\n",
       "4768  ต้องเรียนรู้ที่จะกิน! เม็ดมะม่วงหิมพานต์กินกิน...      0\n",
       "4769  5 ขั้นตอนง่ายๆในการนวดขนาดหน้าอกให้ใหญ่ขึ้นด้ว...      1\n",
       "4770  การแช่ในผ้าด้วยผงซักฟอกที่เข้มข้นมากที่เราเคยท...      1\n",
       "4771  การเปิดเผยสูตรฟันขาว 5 สูตรที่จะทำให้ฟันของคุณ...      1\n",
       "4772  องค์กรเภสัชกรรมยังคงพัฒนา \"favidipravier\" เพื่...      0\n",
       "\n",
       "[4773 rows x 2 columns]"
      ]
     },
     "execution_count": 6,
     "metadata": {},
     "output_type": "execute_result"
    }
   ],
   "source": [
    "train_val_df"
   ]
  },
  {
   "cell_type": "code",
   "execution_count": 27,
   "metadata": {},
   "outputs": [
    {
     "name": "stderr",
     "output_type": "stream",
     "text": [
      "c:\\Users\\foofo\\Desktop\\workspace\\fake_news_project\\venv\\lib\\site-packages\\sklearn\\feature_extraction\\text.py:528: UserWarning: The parameter 'token_pattern' will not be used since 'tokenizer' is not None'\n",
      "  warnings.warn(\n"
     ]
    }
   ],
   "source": [
    "tfidf = TfidfVectorizer(tokenizer=preprocess_func, ngram_range=(1,2), min_df=20, sublinear_tf=True)\n",
    "tfidf_fit = tfidf.fit(train_val_df['text'])\n",
    "text_train = tfidf_fit.transform(train_val_df['text'])\n",
    "text_test = tfidf_fit.transform(test_df['text'])"
   ]
  },
  {
   "cell_type": "code",
   "execution_count": 28,
   "metadata": {},
   "outputs": [
    {
     "data": {
      "text/plain": [
       "((4773, 14703), (507, 14703))"
      ]
     },
     "execution_count": 28,
     "metadata": {},
     "output_type": "execute_result"
    }
   ],
   "source": [
    "text_train.shape, text_test.shape"
   ]
  },
  {
   "cell_type": "code",
   "execution_count": 11,
   "metadata": {},
   "outputs": [
    {
     "data": {
      "text/plain": [
       "((4773, 14703), (507, 14703))"
      ]
     },
     "execution_count": 11,
     "metadata": {},
     "output_type": "execute_result"
    }
   ],
   "source": [
    "X_train = text_train.toarray()\n",
    "X_test = text_test.toarray()\n",
    "X_train.shape, X_test.shape"
   ]
  },
  {
   "cell_type": "code",
   "execution_count": 29,
   "metadata": {},
   "outputs": [],
   "source": [
    "y_train = train_val_df['label']\n",
    "y_test = test_df['label']"
   ]
  },
  {
   "cell_type": "code",
   "execution_count": 30,
   "metadata": {},
   "outputs": [
    {
     "data": {
      "text/plain": [
       "0.9072978303747534"
      ]
     },
     "execution_count": 30,
     "metadata": {},
     "output_type": "execute_result"
    }
   ],
   "source": [
    "model = KNeighborsClassifier(n_neighbors=5)\n",
    "model.fit(X_train, y_train)\n",
    "model.score(X_test, y_test)"
   ]
  },
  {
   "cell_type": "code",
   "execution_count": 31,
   "metadata": {},
   "outputs": [
    {
     "name": "stdout",
     "output_type": "stream",
     "text": [
      "              precision    recall  f1-score   support\n",
      "\n",
      "           0       0.89      0.89      0.89       212\n",
      "           1       0.92      0.92      0.92       295\n",
      "\n",
      "    accuracy                           0.91       507\n",
      "   macro avg       0.90      0.91      0.90       507\n",
      "weighted avg       0.91      0.91      0.91       507\n",
      "\n"
     ]
    }
   ],
   "source": [
    "from sklearn.metrics import classification_report\n",
    "y_val_pred = model.predict(X_test)\n",
    "print(classification_report(y_test, y_val_pred))"
   ]
  },
  {
   "cell_type": "code",
   "execution_count": 15,
   "metadata": {},
   "outputs": [
    {
     "data": {
      "text/plain": [
       "0.9250493096646942"
      ]
     },
     "execution_count": 15,
     "metadata": {},
     "output_type": "execute_result"
    }
   ],
   "source": [
    "model_2 = LogisticRegression()\n",
    "model_2.fit(X_train, y_train)\n",
    "model_2.score(X_test, y_test)"
   ]
  },
  {
   "cell_type": "code",
   "execution_count": 16,
   "metadata": {},
   "outputs": [
    {
     "name": "stdout",
     "output_type": "stream",
     "text": [
      "              precision    recall  f1-score   support\n",
      "\n",
      "           0       0.92      0.90      0.91       212\n",
      "           1       0.93      0.95      0.94       295\n",
      "\n",
      "    accuracy                           0.93       507\n",
      "   macro avg       0.92      0.92      0.92       507\n",
      "weighted avg       0.92      0.93      0.92       507\n",
      "\n"
     ]
    }
   ],
   "source": [
    "y_val_pred_2 = model_2.predict(X_test)\n",
    "print(classification_report(y_test, y_val_pred_2))"
   ]
  },
  {
   "cell_type": "code",
   "execution_count": 17,
   "metadata": {},
   "outputs": [
    {
     "data": {
      "text/plain": [
       "0.883629191321499"
      ]
     },
     "execution_count": 17,
     "metadata": {},
     "output_type": "execute_result"
    }
   ],
   "source": [
    "model_3 = GaussianNB()\n",
    "model_3.fit(X_train, y_train)\n",
    "model_3.score(X_test, y_test)"
   ]
  },
  {
   "cell_type": "code",
   "execution_count": 18,
   "metadata": {},
   "outputs": [
    {
     "name": "stdout",
     "output_type": "stream",
     "text": [
      "              precision    recall  f1-score   support\n",
      "\n",
      "           0       0.86      0.86      0.86       212\n",
      "           1       0.90      0.90      0.90       295\n",
      "\n",
      "    accuracy                           0.88       507\n",
      "   macro avg       0.88      0.88      0.88       507\n",
      "weighted avg       0.88      0.88      0.88       507\n",
      "\n"
     ]
    }
   ],
   "source": [
    "y_val_pred_3 = model_3.predict(X_test)\n",
    "print(classification_report(y_test, y_val_pred_3))"
   ]
  },
  {
   "cell_type": "code",
   "execution_count": 19,
   "metadata": {},
   "outputs": [
    {
     "data": {
      "text/plain": [
       "0.9329388560157791"
      ]
     },
     "execution_count": 19,
     "metadata": {},
     "output_type": "execute_result"
    }
   ],
   "source": [
    "model_4 = SVC()\n",
    "model_4.fit(X_train, y_train)\n",
    "model_4.score(X_test, y_test)"
   ]
  },
  {
   "cell_type": "code",
   "execution_count": 20,
   "metadata": {},
   "outputs": [
    {
     "name": "stdout",
     "output_type": "stream",
     "text": [
      "              precision    recall  f1-score   support\n",
      "\n",
      "           0       0.93      0.91      0.92       212\n",
      "           1       0.93      0.95      0.94       295\n",
      "\n",
      "    accuracy                           0.93       507\n",
      "   macro avg       0.93      0.93      0.93       507\n",
      "weighted avg       0.93      0.93      0.93       507\n",
      "\n"
     ]
    }
   ],
   "source": [
    "y_val_pred_4 = model_4.predict(X_test)\n",
    "print(classification_report(y_test, y_val_pred_4))"
   ]
  },
  {
   "cell_type": "code",
   "execution_count": 19,
   "metadata": {},
   "outputs": [
    {
     "data": {
      "text/plain": [
       "0.9230769230769231"
      ]
     },
     "execution_count": 19,
     "metadata": {},
     "output_type": "execute_result"
    }
   ],
   "source": [
    "model_5 = RandomForestClassifier()\n",
    "model_5.fit(X_train, y_train)\n",
    "model_5.score(X_test, y_test)"
   ]
  },
  {
   "cell_type": "code",
   "execution_count": 20,
   "metadata": {},
   "outputs": [
    {
     "name": "stdout",
     "output_type": "stream",
     "text": [
      "              precision    recall  f1-score   support\n",
      "\n",
      "           0       0.93      0.88      0.91       212\n",
      "           1       0.92      0.96      0.94       295\n",
      "\n",
      "    accuracy                           0.92       507\n",
      "   macro avg       0.93      0.92      0.92       507\n",
      "weighted avg       0.92      0.92      0.92       507\n",
      "\n"
     ]
    }
   ],
   "source": [
    "y_val_pred_5 = model_5.predict(X_test)\n",
    "print(classification_report(y_test, y_val_pred_5))"
   ]
  },
  {
   "attachments": {},
   "cell_type": "markdown",
   "metadata": {},
   "source": [
    "Best param from previous Hyperparameter"
   ]
  },
  {
   "cell_type": "code",
   "execution_count": 22,
   "metadata": {},
   "outputs": [
    {
     "data": {
      "text/plain": [
       "0.9467455621301775"
      ]
     },
     "execution_count": 22,
     "metadata": {},
     "output_type": "execute_result"
    }
   ],
   "source": [
    "svm_grid = SVC(C=100, gamma=1)\n",
    "svm_grid.fit(X_train, y_train)\n",
    "svm_grid.score(X_test, y_test)"
   ]
  },
  {
   "cell_type": "code",
   "execution_count": 23,
   "metadata": {},
   "outputs": [
    {
     "name": "stdout",
     "output_type": "stream",
     "text": [
      "              precision    recall  f1-score   support\n",
      "\n",
      "           0       0.95      0.92      0.94       212\n",
      "           1       0.95      0.96      0.95       295\n",
      "\n",
      "    accuracy                           0.95       507\n",
      "   macro avg       0.95      0.94      0.95       507\n",
      "weighted avg       0.95      0.95      0.95       507\n",
      "\n"
     ]
    }
   ],
   "source": [
    "svm_grid_y_pred = svm_grid.predict(X_test)\n",
    "print(classification_report(y_test, svm_grid_y_pred))"
   ]
  },
  {
   "cell_type": "code",
   "execution_count": 24,
   "metadata": {},
   "outputs": [
    {
     "data": {
      "text/plain": [
       "0.9250493096646942"
      ]
     },
     "execution_count": 24,
     "metadata": {},
     "output_type": "execute_result"
    }
   ],
   "source": [
    "rdf_grid = RandomForestClassifier(n_estimators=400, min_samples_leaf=1, max_depth=90)\n",
    "rdf_grid.fit(X_train, y_train)\n",
    "rdf_grid.score(X_test, y_test)"
   ]
  },
  {
   "cell_type": "code",
   "execution_count": 25,
   "metadata": {},
   "outputs": [
    {
     "name": "stdout",
     "output_type": "stream",
     "text": [
      "              precision    recall  f1-score   support\n",
      "\n",
      "           0       0.93      0.89      0.91       212\n",
      "           1       0.92      0.95      0.94       295\n",
      "\n",
      "    accuracy                           0.93       507\n",
      "   macro avg       0.93      0.92      0.92       507\n",
      "weighted avg       0.93      0.93      0.92       507\n",
      "\n"
     ]
    }
   ],
   "source": [
    "rdf_grid_y_pred = rdf_grid.predict(X_test)\n",
    "print(classification_report(y_test, rdf_grid_y_pred))"
   ]
  },
  {
   "cell_type": "code",
   "execution_count": 75,
   "metadata": {},
   "outputs": [
    {
     "data": {
      "text/plain": [
       "0.9467455621301775"
      ]
     },
     "execution_count": 75,
     "metadata": {},
     "output_type": "execute_result"
    }
   ],
   "source": [
    "lgt_grid = LogisticRegression(C=1500, multi_class='ovr', solver='liblinear')\n",
    "lgt_grid.fit(X_train, y_train)\n",
    "lgt_grid.score(X_test, y_test)"
   ]
  },
  {
   "cell_type": "code",
   "execution_count": 77,
   "metadata": {},
   "outputs": [
    {
     "name": "stdout",
     "output_type": "stream",
     "text": [
      "Fitting 5 folds for each of 4 candidates, totalling 20 fits\n",
      "[CV 1/5] END C=10, multi_class=ovr, solver=liblinear;, score=0.932 total time=   0.7s\n",
      "[CV 2/5] END C=10, multi_class=ovr, solver=liblinear;, score=0.924 total time=   0.9s\n",
      "[CV 3/5] END C=10, multi_class=ovr, solver=liblinear;, score=0.934 total time=   0.7s\n",
      "[CV 4/5] END C=10, multi_class=ovr, solver=liblinear;, score=0.922 total time=   0.5s\n",
      "[CV 5/5] END C=10, multi_class=ovr, solver=liblinear;, score=0.936 total time=   0.5s\n",
      "[CV 1/5] END C=100, multi_class=ovr, solver=liblinear;, score=0.941 total time=   0.7s\n",
      "[CV 2/5] END C=100, multi_class=ovr, solver=liblinear;, score=0.939 total time=   0.6s\n",
      "[CV 3/5] END C=100, multi_class=ovr, solver=liblinear;, score=0.937 total time=   0.6s\n",
      "[CV 4/5] END C=100, multi_class=ovr, solver=liblinear;, score=0.927 total time=   0.7s\n",
      "[CV 5/5] END C=100, multi_class=ovr, solver=liblinear;, score=0.948 total time=   0.7s\n",
      "[CV 1/5] END C=1000, multi_class=ovr, solver=liblinear;, score=0.945 total time=   0.7s\n",
      "[CV 2/5] END C=1000, multi_class=ovr, solver=liblinear;, score=0.941 total time=   0.7s\n",
      "[CV 3/5] END C=1000, multi_class=ovr, solver=liblinear;, score=0.938 total time=   0.8s\n",
      "[CV 4/5] END C=1000, multi_class=ovr, solver=liblinear;, score=0.936 total time=   0.7s\n",
      "[CV 5/5] END C=1000, multi_class=ovr, solver=liblinear;, score=0.950 total time=   0.9s\n",
      "[CV 1/5] END C=1500, multi_class=ovr, solver=liblinear;, score=0.946 total time=   0.8s\n",
      "[CV 2/5] END C=1500, multi_class=ovr, solver=liblinear;, score=0.940 total time=   0.7s\n",
      "[CV 3/5] END C=1500, multi_class=ovr, solver=liblinear;, score=0.937 total time=   0.8s\n",
      "[CV 4/5] END C=1500, multi_class=ovr, solver=liblinear;, score=0.936 total time=   0.9s\n",
      "[CV 5/5] END C=1500, multi_class=ovr, solver=liblinear;, score=0.952 total time=   0.8s\n"
     ]
    },
    {
     "data": {
      "text/html": [
       "<style>#sk-container-id-3 {color: black;background-color: white;}#sk-container-id-3 pre{padding: 0;}#sk-container-id-3 div.sk-toggleable {background-color: white;}#sk-container-id-3 label.sk-toggleable__label {cursor: pointer;display: block;width: 100%;margin-bottom: 0;padding: 0.3em;box-sizing: border-box;text-align: center;}#sk-container-id-3 label.sk-toggleable__label-arrow:before {content: \"▸\";float: left;margin-right: 0.25em;color: #696969;}#sk-container-id-3 label.sk-toggleable__label-arrow:hover:before {color: black;}#sk-container-id-3 div.sk-estimator:hover label.sk-toggleable__label-arrow:before {color: black;}#sk-container-id-3 div.sk-toggleable__content {max-height: 0;max-width: 0;overflow: hidden;text-align: left;background-color: #f0f8ff;}#sk-container-id-3 div.sk-toggleable__content pre {margin: 0.2em;color: black;border-radius: 0.25em;background-color: #f0f8ff;}#sk-container-id-3 input.sk-toggleable__control:checked~div.sk-toggleable__content {max-height: 200px;max-width: 100%;overflow: auto;}#sk-container-id-3 input.sk-toggleable__control:checked~label.sk-toggleable__label-arrow:before {content: \"▾\";}#sk-container-id-3 div.sk-estimator input.sk-toggleable__control:checked~label.sk-toggleable__label {background-color: #d4ebff;}#sk-container-id-3 div.sk-label input.sk-toggleable__control:checked~label.sk-toggleable__label {background-color: #d4ebff;}#sk-container-id-3 input.sk-hidden--visually {border: 0;clip: rect(1px 1px 1px 1px);clip: rect(1px, 1px, 1px, 1px);height: 1px;margin: -1px;overflow: hidden;padding: 0;position: absolute;width: 1px;}#sk-container-id-3 div.sk-estimator {font-family: monospace;background-color: #f0f8ff;border: 1px dotted black;border-radius: 0.25em;box-sizing: border-box;margin-bottom: 0.5em;}#sk-container-id-3 div.sk-estimator:hover {background-color: #d4ebff;}#sk-container-id-3 div.sk-parallel-item::after {content: \"\";width: 100%;border-bottom: 1px solid gray;flex-grow: 1;}#sk-container-id-3 div.sk-label:hover label.sk-toggleable__label {background-color: #d4ebff;}#sk-container-id-3 div.sk-serial::before {content: \"\";position: absolute;border-left: 1px solid gray;box-sizing: border-box;top: 0;bottom: 0;left: 50%;z-index: 0;}#sk-container-id-3 div.sk-serial {display: flex;flex-direction: column;align-items: center;background-color: white;padding-right: 0.2em;padding-left: 0.2em;position: relative;}#sk-container-id-3 div.sk-item {position: relative;z-index: 1;}#sk-container-id-3 div.sk-parallel {display: flex;align-items: stretch;justify-content: center;background-color: white;position: relative;}#sk-container-id-3 div.sk-item::before, #sk-container-id-3 div.sk-parallel-item::before {content: \"\";position: absolute;border-left: 1px solid gray;box-sizing: border-box;top: 0;bottom: 0;left: 50%;z-index: -1;}#sk-container-id-3 div.sk-parallel-item {display: flex;flex-direction: column;z-index: 1;position: relative;background-color: white;}#sk-container-id-3 div.sk-parallel-item:first-child::after {align-self: flex-end;width: 50%;}#sk-container-id-3 div.sk-parallel-item:last-child::after {align-self: flex-start;width: 50%;}#sk-container-id-3 div.sk-parallel-item:only-child::after {width: 0;}#sk-container-id-3 div.sk-dashed-wrapped {border: 1px dashed gray;margin: 0 0.4em 0.5em 0.4em;box-sizing: border-box;padding-bottom: 0.4em;background-color: white;}#sk-container-id-3 div.sk-label label {font-family: monospace;font-weight: bold;display: inline-block;line-height: 1.2em;}#sk-container-id-3 div.sk-label-container {text-align: center;}#sk-container-id-3 div.sk-container {/* jupyter's `normalize.less` sets `[hidden] { display: none; }` but bootstrap.min.css set `[hidden] { display: none !important; }` so we also need the `!important` here to be able to override the default hidden behavior on the sphinx rendered scikit-learn.org. See: https://github.com/scikit-learn/scikit-learn/issues/21755 */display: inline-block !important;position: relative;}#sk-container-id-3 div.sk-text-repr-fallback {display: none;}</style><div id=\"sk-container-id-3\" class=\"sk-top-container\"><div class=\"sk-text-repr-fallback\"><pre>GridSearchCV(estimator=LogisticRegression(),\n",
       "             param_grid={&#x27;C&#x27;: [10, 100, 1000, 1500], &#x27;multi_class&#x27;: [&#x27;ovr&#x27;],\n",
       "                         &#x27;solver&#x27;: [&#x27;liblinear&#x27;]},\n",
       "             verbose=3)</pre><b>In a Jupyter environment, please rerun this cell to show the HTML representation or trust the notebook. <br />On GitHub, the HTML representation is unable to render, please try loading this page with nbviewer.org.</b></div><div class=\"sk-container\" hidden><div class=\"sk-item sk-dashed-wrapped\"><div class=\"sk-label-container\"><div class=\"sk-label sk-toggleable\"><input class=\"sk-toggleable__control sk-hidden--visually\" id=\"sk-estimator-id-5\" type=\"checkbox\" ><label for=\"sk-estimator-id-5\" class=\"sk-toggleable__label sk-toggleable__label-arrow\">GridSearchCV</label><div class=\"sk-toggleable__content\"><pre>GridSearchCV(estimator=LogisticRegression(),\n",
       "             param_grid={&#x27;C&#x27;: [10, 100, 1000, 1500], &#x27;multi_class&#x27;: [&#x27;ovr&#x27;],\n",
       "                         &#x27;solver&#x27;: [&#x27;liblinear&#x27;]},\n",
       "             verbose=3)</pre></div></div></div><div class=\"sk-parallel\"><div class=\"sk-parallel-item\"><div class=\"sk-item\"><div class=\"sk-label-container\"><div class=\"sk-label sk-toggleable\"><input class=\"sk-toggleable__control sk-hidden--visually\" id=\"sk-estimator-id-6\" type=\"checkbox\" ><label for=\"sk-estimator-id-6\" class=\"sk-toggleable__label sk-toggleable__label-arrow\">estimator: LogisticRegression</label><div class=\"sk-toggleable__content\"><pre>LogisticRegression()</pre></div></div></div><div class=\"sk-serial\"><div class=\"sk-item\"><div class=\"sk-estimator sk-toggleable\"><input class=\"sk-toggleable__control sk-hidden--visually\" id=\"sk-estimator-id-7\" type=\"checkbox\" ><label for=\"sk-estimator-id-7\" class=\"sk-toggleable__label sk-toggleable__label-arrow\">LogisticRegression</label><div class=\"sk-toggleable__content\"><pre>LogisticRegression()</pre></div></div></div></div></div></div></div></div></div></div>"
      ],
      "text/plain": [
       "GridSearchCV(estimator=LogisticRegression(),\n",
       "             param_grid={'C': [10, 100, 1000, 1500], 'multi_class': ['ovr'],\n",
       "                         'solver': ['liblinear']},\n",
       "             verbose=3)"
      ]
     },
     "execution_count": 77,
     "metadata": {},
     "output_type": "execute_result"
    }
   ],
   "source": [
    "param_grid = {\n",
    " 'C': [10, 100, 1000, 1500],\n",
    " 'solver': ['liblinear'],  \n",
    " 'multi_class': ['ovr']}\n",
    "lgt_grid = GridSearchCV(LogisticRegression(), param_grid, refit = True, verbose = 3)\n",
    "lgt_grid.fit(X_train, y_train)"
   ]
  },
  {
   "cell_type": "code",
   "execution_count": 78,
   "metadata": {},
   "outputs": [
    {
     "data": {
      "text/html": [
       "<style>#sk-container-id-4 {color: black;background-color: white;}#sk-container-id-4 pre{padding: 0;}#sk-container-id-4 div.sk-toggleable {background-color: white;}#sk-container-id-4 label.sk-toggleable__label {cursor: pointer;display: block;width: 100%;margin-bottom: 0;padding: 0.3em;box-sizing: border-box;text-align: center;}#sk-container-id-4 label.sk-toggleable__label-arrow:before {content: \"▸\";float: left;margin-right: 0.25em;color: #696969;}#sk-container-id-4 label.sk-toggleable__label-arrow:hover:before {color: black;}#sk-container-id-4 div.sk-estimator:hover label.sk-toggleable__label-arrow:before {color: black;}#sk-container-id-4 div.sk-toggleable__content {max-height: 0;max-width: 0;overflow: hidden;text-align: left;background-color: #f0f8ff;}#sk-container-id-4 div.sk-toggleable__content pre {margin: 0.2em;color: black;border-radius: 0.25em;background-color: #f0f8ff;}#sk-container-id-4 input.sk-toggleable__control:checked~div.sk-toggleable__content {max-height: 200px;max-width: 100%;overflow: auto;}#sk-container-id-4 input.sk-toggleable__control:checked~label.sk-toggleable__label-arrow:before {content: \"▾\";}#sk-container-id-4 div.sk-estimator input.sk-toggleable__control:checked~label.sk-toggleable__label {background-color: #d4ebff;}#sk-container-id-4 div.sk-label input.sk-toggleable__control:checked~label.sk-toggleable__label {background-color: #d4ebff;}#sk-container-id-4 input.sk-hidden--visually {border: 0;clip: rect(1px 1px 1px 1px);clip: rect(1px, 1px, 1px, 1px);height: 1px;margin: -1px;overflow: hidden;padding: 0;position: absolute;width: 1px;}#sk-container-id-4 div.sk-estimator {font-family: monospace;background-color: #f0f8ff;border: 1px dotted black;border-radius: 0.25em;box-sizing: border-box;margin-bottom: 0.5em;}#sk-container-id-4 div.sk-estimator:hover {background-color: #d4ebff;}#sk-container-id-4 div.sk-parallel-item::after {content: \"\";width: 100%;border-bottom: 1px solid gray;flex-grow: 1;}#sk-container-id-4 div.sk-label:hover label.sk-toggleable__label {background-color: #d4ebff;}#sk-container-id-4 div.sk-serial::before {content: \"\";position: absolute;border-left: 1px solid gray;box-sizing: border-box;top: 0;bottom: 0;left: 50%;z-index: 0;}#sk-container-id-4 div.sk-serial {display: flex;flex-direction: column;align-items: center;background-color: white;padding-right: 0.2em;padding-left: 0.2em;position: relative;}#sk-container-id-4 div.sk-item {position: relative;z-index: 1;}#sk-container-id-4 div.sk-parallel {display: flex;align-items: stretch;justify-content: center;background-color: white;position: relative;}#sk-container-id-4 div.sk-item::before, #sk-container-id-4 div.sk-parallel-item::before {content: \"\";position: absolute;border-left: 1px solid gray;box-sizing: border-box;top: 0;bottom: 0;left: 50%;z-index: -1;}#sk-container-id-4 div.sk-parallel-item {display: flex;flex-direction: column;z-index: 1;position: relative;background-color: white;}#sk-container-id-4 div.sk-parallel-item:first-child::after {align-self: flex-end;width: 50%;}#sk-container-id-4 div.sk-parallel-item:last-child::after {align-self: flex-start;width: 50%;}#sk-container-id-4 div.sk-parallel-item:only-child::after {width: 0;}#sk-container-id-4 div.sk-dashed-wrapped {border: 1px dashed gray;margin: 0 0.4em 0.5em 0.4em;box-sizing: border-box;padding-bottom: 0.4em;background-color: white;}#sk-container-id-4 div.sk-label label {font-family: monospace;font-weight: bold;display: inline-block;line-height: 1.2em;}#sk-container-id-4 div.sk-label-container {text-align: center;}#sk-container-id-4 div.sk-container {/* jupyter's `normalize.less` sets `[hidden] { display: none; }` but bootstrap.min.css set `[hidden] { display: none !important; }` so we also need the `!important` here to be able to override the default hidden behavior on the sphinx rendered scikit-learn.org. See: https://github.com/scikit-learn/scikit-learn/issues/21755 */display: inline-block !important;position: relative;}#sk-container-id-4 div.sk-text-repr-fallback {display: none;}</style><div id=\"sk-container-id-4\" class=\"sk-top-container\"><div class=\"sk-text-repr-fallback\"><pre>LogisticRegression(C=1500, multi_class=&#x27;ovr&#x27;, solver=&#x27;liblinear&#x27;)</pre><b>In a Jupyter environment, please rerun this cell to show the HTML representation or trust the notebook. <br />On GitHub, the HTML representation is unable to render, please try loading this page with nbviewer.org.</b></div><div class=\"sk-container\" hidden><div class=\"sk-item\"><div class=\"sk-estimator sk-toggleable\"><input class=\"sk-toggleable__control sk-hidden--visually\" id=\"sk-estimator-id-8\" type=\"checkbox\" checked><label for=\"sk-estimator-id-8\" class=\"sk-toggleable__label sk-toggleable__label-arrow\">LogisticRegression</label><div class=\"sk-toggleable__content\"><pre>LogisticRegression(C=1500, multi_class=&#x27;ovr&#x27;, solver=&#x27;liblinear&#x27;)</pre></div></div></div></div></div>"
      ],
      "text/plain": [
       "LogisticRegression(C=1500, multi_class='ovr', solver='liblinear')"
      ]
     },
     "execution_count": 78,
     "metadata": {},
     "output_type": "execute_result"
    }
   ],
   "source": [
    "lgt_grid.best_estimator_"
   ]
  },
  {
   "cell_type": "code",
   "execution_count": 21,
   "metadata": {},
   "outputs": [
    {
     "data": {
      "text/plain": [
       "0.9447731755424064"
      ]
     },
     "execution_count": 21,
     "metadata": {},
     "output_type": "execute_result"
    }
   ],
   "source": [
    "model_2_best = LogisticRegression(C=1500, multi_class='ovr', solver='liblinear')\n",
    "model_2_best.fit(X_train, y_train)\n",
    "model_2_best.score(X_test, y_test)"
   ]
  },
  {
   "cell_type": "code",
   "execution_count": 22,
   "metadata": {},
   "outputs": [
    {
     "name": "stdout",
     "output_type": "stream",
     "text": [
      "              precision    recall  f1-score   support\n",
      "\n",
      "           0       0.94      0.93      0.93       212\n",
      "           1       0.95      0.96      0.95       295\n",
      "\n",
      "    accuracy                           0.94       507\n",
      "   macro avg       0.94      0.94      0.94       507\n",
      "weighted avg       0.94      0.94      0.94       507\n",
      "\n"
     ]
    }
   ],
   "source": [
    "y_val_pred_2_best = model_2_best.predict(X_test)\n",
    "print(classification_report(y_test, y_val_pred_2_best))"
   ]
  },
  {
   "cell_type": "code",
   "execution_count": 23,
   "metadata": {},
   "outputs": [],
   "source": [
    "import pickle\n",
    "pickle.dump(model_2_best, open(\"best_logistic_model.pickle\", \"wb\"))"
   ]
  },
  {
   "cell_type": "code",
   "execution_count": 24,
   "metadata": {},
   "outputs": [],
   "source": [
    "loaded_model = pickle.load(open(\"best_logistic_model.pickle\", \"rb\"))"
   ]
  },
  {
   "cell_type": "code",
   "execution_count": 25,
   "metadata": {},
   "outputs": [
    {
     "name": "stdout",
     "output_type": "stream",
     "text": [
      "              precision    recall  f1-score   support\n",
      "\n",
      "           0       0.94      0.93      0.93       212\n",
      "           1       0.95      0.96      0.95       295\n",
      "\n",
      "    accuracy                           0.94       507\n",
      "   macro avg       0.94      0.94      0.94       507\n",
      "weighted avg       0.94      0.94      0.94       507\n",
      "\n"
     ]
    }
   ],
   "source": [
    "y_val_pred_2_loaded_model = loaded_model.predict(X_test)\n",
    "print(classification_report(y_test, y_val_pred_2_loaded_model))"
   ]
  },
  {
   "cell_type": "code",
   "execution_count": 33,
   "metadata": {},
   "outputs": [],
   "source": [
    "# save tfidf\n",
    "import dill\n",
    "dill.dump(tfidf_fit, open(\"tfidf_trans.dill\", \"wb\"))"
   ]
  },
  {
   "cell_type": "code",
   "execution_count": 37,
   "metadata": {},
   "outputs": [
    {
     "name": "stdout",
     "output_type": "stream",
     "text": [
      "[1]\n",
      "[[7.12119948e-06 9.99992879e-01]]\n"
     ]
    }
   ],
   "source": [
    "import numpy as np\n",
    "x = tfidf_fit.transform([\"น้ำมะนาวโซดารักษามะเร็งได้จริงๆ\"])\n",
    "pred_x = loaded_model.predict(x)\n",
    "pred_x_2 = loaded_model.predict_proba(x)\n",
    "print(pred_x)\n",
    "print(pred_x_2)"
   ]
  }
 ],
 "metadata": {
  "kernelspec": {
   "display_name": "venv",
   "language": "python",
   "name": "python3"
  },
  "language_info": {
   "codemirror_mode": {
    "name": "ipython",
    "version": 3
   },
   "file_extension": ".py",
   "mimetype": "text/x-python",
   "name": "python",
   "nbconvert_exporter": "python",
   "pygments_lexer": "ipython3",
   "version": "3.10.5"
  },
  "orig_nbformat": 4,
  "vscode": {
   "interpreter": {
    "hash": "b5611d40d9a35cece57bb11b4fe7cfb894178ef53f2345e73f0f231f12336cee"
   }
  }
 },
 "nbformat": 4,
 "nbformat_minor": 2
}
